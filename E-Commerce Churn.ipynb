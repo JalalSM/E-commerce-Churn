{
 "cells": [
  {
   "cell_type": "markdown",
   "id": "18c25598-5b8e-458c-a8e4-7f6b395af53a",
   "metadata": {},
   "source": [
    "# E-Commerce Churn"
   ]
  },
  {
   "cell_type": "markdown",
   "id": "c1092e01-d5bf-4f92-a82f-e6a76c8d3a6b",
   "metadata": {},
   "source": [
    "The dataset belongs to a leading online e-commerce company. An online retail (E-commerce) company wants to know which customers are about to churn, so they can approach customers to offer some offers"
   ]
  },
  {
   "cell_type": "markdown",
   "id": "931510f9-3b29-42a8-9227-8edb546d0867",
   "metadata": {},
   "source": [
    "Inspiration, some possible insights could be -\n",
    "\n",
    "- What variables are contributing to customer churn?\n",
    "- Who are the customers more likely to churn?\n",
    "- What actions can be taken to stop them from leaving?"
   ]
  },
  {
   "cell_type": "code",
   "execution_count": 1,
   "id": "060dcaff-6ed8-4318-bac5-0d2af0189e4b",
   "metadata": {},
   "outputs": [],
   "source": [
    "import pandas as pd\n",
    "import numpy as np\n",
    "import matplotlib.pyplot as plt\n",
    "import seaborn as sns\n",
    "import warnings\n",
    "from scipy import stats\n",
    "from matplotlib.pyplot import rcParams\n",
    "warnings.filterwarnings('ignore')"
   ]
  },
  {
   "cell_type": "code",
   "execution_count": 2,
   "id": "853ef0d8-0a83-47ed-b0e1-876c20e3de6e",
   "metadata": {},
   "outputs": [],
   "source": [
    "rcParams['axes.grid']         = True\n",
    "rcParams['grid.alpha']        = 0.3\n",
    "rcParams['axes.spines.right'] = False\n",
    "rcParams['axes.spines.left']  = False\n",
    "rcParams['axes.spines.top']   = False\n",
    "rcParams['figure.figsize']    = (17,5)"
   ]
  },
  {
   "cell_type": "code",
   "execution_count": 3,
   "id": "d7744b07-3e84-41b3-849c-ca2ec795f2da",
   "metadata": {},
   "outputs": [],
   "source": [
    "pd.set_option('display.max_columns',100)\n",
    "plt.rc('axes',axisbelow=True)"
   ]
  },
  {
   "cell_type": "code",
   "execution_count": 4,
   "id": "1817e192-e5d5-4f94-882e-5133aae9ae9a",
   "metadata": {},
   "outputs": [
    {
     "data": {
      "text/html": [
       "<div>\n",
       "<style scoped>\n",
       "    .dataframe tbody tr th:only-of-type {\n",
       "        vertical-align: middle;\n",
       "    }\n",
       "\n",
       "    .dataframe tbody tr th {\n",
       "        vertical-align: top;\n",
       "    }\n",
       "\n",
       "    .dataframe thead th {\n",
       "        text-align: right;\n",
       "    }\n",
       "</style>\n",
       "<table border=\"1\" class=\"dataframe\">\n",
       "  <thead>\n",
       "    <tr style=\"text-align: right;\">\n",
       "      <th></th>\n",
       "      <th>CustomerID</th>\n",
       "      <th>Churn</th>\n",
       "      <th>Tenure</th>\n",
       "      <th>PreferredLoginDevice</th>\n",
       "      <th>CityTier</th>\n",
       "      <th>WarehouseToHome</th>\n",
       "      <th>PreferredPaymentMode</th>\n",
       "      <th>Gender</th>\n",
       "      <th>HourSpendOnApp</th>\n",
       "      <th>NumberOfDeviceRegistered</th>\n",
       "      <th>PreferedOrderCat</th>\n",
       "      <th>SatisfactionScore</th>\n",
       "      <th>MaritalStatus</th>\n",
       "      <th>NumberOfAddress</th>\n",
       "      <th>Complain</th>\n",
       "      <th>OrderAmountHikeFromlastYear</th>\n",
       "      <th>CouponUsed</th>\n",
       "      <th>OrderCount</th>\n",
       "      <th>DaySinceLastOrder</th>\n",
       "      <th>CashbackAmount</th>\n",
       "    </tr>\n",
       "  </thead>\n",
       "  <tbody>\n",
       "    <tr>\n",
       "      <th>1333</th>\n",
       "      <td>51334</td>\n",
       "      <td>0</td>\n",
       "      <td>8.0</td>\n",
       "      <td>Phone</td>\n",
       "      <td>1</td>\n",
       "      <td>6.0</td>\n",
       "      <td>Debit Card</td>\n",
       "      <td>Female</td>\n",
       "      <td>NaN</td>\n",
       "      <td>5</td>\n",
       "      <td>Mobile</td>\n",
       "      <td>1</td>\n",
       "      <td>Married</td>\n",
       "      <td>2</td>\n",
       "      <td>0</td>\n",
       "      <td>12.0</td>\n",
       "      <td>0.0</td>\n",
       "      <td>1.0</td>\n",
       "      <td>1.0</td>\n",
       "      <td>129.77</td>\n",
       "    </tr>\n",
       "    <tr>\n",
       "      <th>5263</th>\n",
       "      <td>55264</td>\n",
       "      <td>0</td>\n",
       "      <td>22.0</td>\n",
       "      <td>Mobile Phone</td>\n",
       "      <td>3</td>\n",
       "      <td>23.0</td>\n",
       "      <td>Debit Card</td>\n",
       "      <td>Female</td>\n",
       "      <td>4.0</td>\n",
       "      <td>4</td>\n",
       "      <td>Laptop &amp; Accessory</td>\n",
       "      <td>3</td>\n",
       "      <td>Married</td>\n",
       "      <td>10</td>\n",
       "      <td>0</td>\n",
       "      <td>15.0</td>\n",
       "      <td>8.0</td>\n",
       "      <td>8.0</td>\n",
       "      <td>8.0</td>\n",
       "      <td>189.39</td>\n",
       "    </tr>\n",
       "    <tr>\n",
       "      <th>4180</th>\n",
       "      <td>54181</td>\n",
       "      <td>0</td>\n",
       "      <td>1.0</td>\n",
       "      <td>Computer</td>\n",
       "      <td>1</td>\n",
       "      <td>18.0</td>\n",
       "      <td>UPI</td>\n",
       "      <td>Female</td>\n",
       "      <td>4.0</td>\n",
       "      <td>2</td>\n",
       "      <td>Laptop &amp; Accessory</td>\n",
       "      <td>3</td>\n",
       "      <td>Married</td>\n",
       "      <td>2</td>\n",
       "      <td>0</td>\n",
       "      <td>19.0</td>\n",
       "      <td>1.0</td>\n",
       "      <td>2.0</td>\n",
       "      <td>4.0</td>\n",
       "      <td>165.11</td>\n",
       "    </tr>\n",
       "    <tr>\n",
       "      <th>557</th>\n",
       "      <td>50558</td>\n",
       "      <td>0</td>\n",
       "      <td>5.0</td>\n",
       "      <td>Computer</td>\n",
       "      <td>1</td>\n",
       "      <td>NaN</td>\n",
       "      <td>Debit Card</td>\n",
       "      <td>Female</td>\n",
       "      <td>3.0</td>\n",
       "      <td>4</td>\n",
       "      <td>Mobile</td>\n",
       "      <td>4</td>\n",
       "      <td>Divorced</td>\n",
       "      <td>7</td>\n",
       "      <td>0</td>\n",
       "      <td>20.0</td>\n",
       "      <td>1.0</td>\n",
       "      <td>1.0</td>\n",
       "      <td>2.0</td>\n",
       "      <td>123.32</td>\n",
       "    </tr>\n",
       "    <tr>\n",
       "      <th>3003</th>\n",
       "      <td>53004</td>\n",
       "      <td>0</td>\n",
       "      <td>7.0</td>\n",
       "      <td>Computer</td>\n",
       "      <td>1</td>\n",
       "      <td>12.0</td>\n",
       "      <td>Debit Card</td>\n",
       "      <td>Female</td>\n",
       "      <td>4.0</td>\n",
       "      <td>4</td>\n",
       "      <td>Fashion</td>\n",
       "      <td>4</td>\n",
       "      <td>Divorced</td>\n",
       "      <td>8</td>\n",
       "      <td>0</td>\n",
       "      <td>12.0</td>\n",
       "      <td>3.0</td>\n",
       "      <td>NaN</td>\n",
       "      <td>9.0</td>\n",
       "      <td>243.78</td>\n",
       "    </tr>\n",
       "  </tbody>\n",
       "</table>\n",
       "</div>"
      ],
      "text/plain": [
       "      CustomerID  Churn  Tenure PreferredLoginDevice  CityTier  \\\n",
       "1333       51334      0     8.0                Phone         1   \n",
       "5263       55264      0    22.0         Mobile Phone         3   \n",
       "4180       54181      0     1.0             Computer         1   \n",
       "557        50558      0     5.0             Computer         1   \n",
       "3003       53004      0     7.0             Computer         1   \n",
       "\n",
       "      WarehouseToHome PreferredPaymentMode  Gender  HourSpendOnApp  \\\n",
       "1333              6.0           Debit Card  Female             NaN   \n",
       "5263             23.0           Debit Card  Female             4.0   \n",
       "4180             18.0                  UPI  Female             4.0   \n",
       "557               NaN           Debit Card  Female             3.0   \n",
       "3003             12.0           Debit Card  Female             4.0   \n",
       "\n",
       "      NumberOfDeviceRegistered    PreferedOrderCat  SatisfactionScore  \\\n",
       "1333                         5              Mobile                  1   \n",
       "5263                         4  Laptop & Accessory                  3   \n",
       "4180                         2  Laptop & Accessory                  3   \n",
       "557                          4              Mobile                  4   \n",
       "3003                         4             Fashion                  4   \n",
       "\n",
       "     MaritalStatus  NumberOfAddress  Complain  OrderAmountHikeFromlastYear  \\\n",
       "1333       Married                2         0                         12.0   \n",
       "5263       Married               10         0                         15.0   \n",
       "4180       Married                2         0                         19.0   \n",
       "557       Divorced                7         0                         20.0   \n",
       "3003      Divorced                8         0                         12.0   \n",
       "\n",
       "      CouponUsed  OrderCount  DaySinceLastOrder  CashbackAmount  \n",
       "1333         0.0         1.0                1.0          129.77  \n",
       "5263         8.0         8.0                8.0          189.39  \n",
       "4180         1.0         2.0                4.0          165.11  \n",
       "557          1.0         1.0                2.0          123.32  \n",
       "3003         3.0         NaN                9.0          243.78  "
      ]
     },
     "execution_count": 4,
     "metadata": {},
     "output_type": "execute_result"
    }
   ],
   "source": [
    "df = pd.read_excel('D:/Data/UCI/Churn/Churn_ECommerce.xlsx',sheet_name='E Comm',engine='openpyxl')\n",
    "df.sample(5)"
   ]
  },
  {
   "cell_type": "code",
   "execution_count": 5,
   "id": "e51f65e6-ec36-4be0-a659-c6a65e7bc1e1",
   "metadata": {},
   "outputs": [
    {
     "name": "stdout",
     "output_type": "stream",
     "text": [
      "<class 'pandas.core.frame.DataFrame'>\n",
      "RangeIndex: 5630 entries, 0 to 5629\n",
      "Data columns (total 20 columns):\n",
      " #   Column                       Non-Null Count  Dtype  \n",
      "---  ------                       --------------  -----  \n",
      " 0   CustomerID                   5630 non-null   int64  \n",
      " 1   Churn                        5630 non-null   int64  \n",
      " 2   Tenure                       5366 non-null   float64\n",
      " 3   PreferredLoginDevice         5630 non-null   object \n",
      " 4   CityTier                     5630 non-null   int64  \n",
      " 5   WarehouseToHome              5379 non-null   float64\n",
      " 6   PreferredPaymentMode         5630 non-null   object \n",
      " 7   Gender                       5630 non-null   object \n",
      " 8   HourSpendOnApp               5375 non-null   float64\n",
      " 9   NumberOfDeviceRegistered     5630 non-null   int64  \n",
      " 10  PreferedOrderCat             5630 non-null   object \n",
      " 11  SatisfactionScore            5630 non-null   int64  \n",
      " 12  MaritalStatus                5630 non-null   object \n",
      " 13  NumberOfAddress              5630 non-null   int64  \n",
      " 14  Complain                     5630 non-null   int64  \n",
      " 15  OrderAmountHikeFromlastYear  5365 non-null   float64\n",
      " 16  CouponUsed                   5374 non-null   float64\n",
      " 17  OrderCount                   5372 non-null   float64\n",
      " 18  DaySinceLastOrder            5323 non-null   float64\n",
      " 19  CashbackAmount               5630 non-null   float64\n",
      "dtypes: float64(8), int64(7), object(5)\n",
      "memory usage: 879.8+ KB\n"
     ]
    }
   ],
   "source": [
    "df.info()"
   ]
  },
  {
   "cell_type": "markdown",
   "id": "0895db11-86f1-414c-97af-395c1c51658c",
   "metadata": {},
   "source": [
    "- 20 columns with 5630 rows\n",
    "- Missing values appear in some features\n",
    "- Seems like all data types are already correct"
   ]
  },
  {
   "cell_type": "markdown",
   "id": "1a34346a-9c5a-4088-b7c3-fdf0aa01b298",
   "metadata": {},
   "source": [
    "**Desriptive statistics** numerical data"
   ]
  },
  {
   "cell_type": "code",
   "execution_count": 6,
   "id": "005799d1-63f3-4e87-ab82-b8820ed4477e",
   "metadata": {},
   "outputs": [
    {
     "data": {
      "text/html": [
       "<div>\n",
       "<style scoped>\n",
       "    .dataframe tbody tr th:only-of-type {\n",
       "        vertical-align: middle;\n",
       "    }\n",
       "\n",
       "    .dataframe tbody tr th {\n",
       "        vertical-align: top;\n",
       "    }\n",
       "\n",
       "    .dataframe thead th {\n",
       "        text-align: right;\n",
       "    }\n",
       "</style>\n",
       "<table border=\"1\" class=\"dataframe\">\n",
       "  <thead>\n",
       "    <tr style=\"text-align: right;\">\n",
       "      <th></th>\n",
       "      <th>CustomerID</th>\n",
       "      <th>Churn</th>\n",
       "      <th>Tenure</th>\n",
       "      <th>CityTier</th>\n",
       "      <th>WarehouseToHome</th>\n",
       "      <th>HourSpendOnApp</th>\n",
       "      <th>NumberOfDeviceRegistered</th>\n",
       "      <th>SatisfactionScore</th>\n",
       "      <th>NumberOfAddress</th>\n",
       "      <th>Complain</th>\n",
       "      <th>OrderAmountHikeFromlastYear</th>\n",
       "      <th>CouponUsed</th>\n",
       "      <th>OrderCount</th>\n",
       "      <th>DaySinceLastOrder</th>\n",
       "      <th>CashbackAmount</th>\n",
       "    </tr>\n",
       "  </thead>\n",
       "  <tbody>\n",
       "    <tr>\n",
       "      <th>count</th>\n",
       "      <td>5630.000000</td>\n",
       "      <td>5630.000000</td>\n",
       "      <td>5366.000000</td>\n",
       "      <td>5630.000000</td>\n",
       "      <td>5379.000000</td>\n",
       "      <td>5375.000000</td>\n",
       "      <td>5630.000000</td>\n",
       "      <td>5630.000000</td>\n",
       "      <td>5630.000000</td>\n",
       "      <td>5630.000000</td>\n",
       "      <td>5365.000000</td>\n",
       "      <td>5374.000000</td>\n",
       "      <td>5372.000000</td>\n",
       "      <td>5323.000000</td>\n",
       "      <td>5630.000000</td>\n",
       "    </tr>\n",
       "    <tr>\n",
       "      <th>mean</th>\n",
       "      <td>52815.500000</td>\n",
       "      <td>0.168384</td>\n",
       "      <td>10.189899</td>\n",
       "      <td>1.654707</td>\n",
       "      <td>15.639896</td>\n",
       "      <td>2.931535</td>\n",
       "      <td>3.688988</td>\n",
       "      <td>3.066785</td>\n",
       "      <td>4.214032</td>\n",
       "      <td>0.284902</td>\n",
       "      <td>15.707922</td>\n",
       "      <td>1.751023</td>\n",
       "      <td>3.008004</td>\n",
       "      <td>4.543491</td>\n",
       "      <td>177.223030</td>\n",
       "    </tr>\n",
       "    <tr>\n",
       "      <th>std</th>\n",
       "      <td>1625.385339</td>\n",
       "      <td>0.374240</td>\n",
       "      <td>8.557241</td>\n",
       "      <td>0.915389</td>\n",
       "      <td>8.531475</td>\n",
       "      <td>0.721926</td>\n",
       "      <td>1.023999</td>\n",
       "      <td>1.380194</td>\n",
       "      <td>2.583586</td>\n",
       "      <td>0.451408</td>\n",
       "      <td>3.675485</td>\n",
       "      <td>1.894621</td>\n",
       "      <td>2.939680</td>\n",
       "      <td>3.654433</td>\n",
       "      <td>49.207036</td>\n",
       "    </tr>\n",
       "    <tr>\n",
       "      <th>min</th>\n",
       "      <td>50001.000000</td>\n",
       "      <td>0.000000</td>\n",
       "      <td>0.000000</td>\n",
       "      <td>1.000000</td>\n",
       "      <td>5.000000</td>\n",
       "      <td>0.000000</td>\n",
       "      <td>1.000000</td>\n",
       "      <td>1.000000</td>\n",
       "      <td>1.000000</td>\n",
       "      <td>0.000000</td>\n",
       "      <td>11.000000</td>\n",
       "      <td>0.000000</td>\n",
       "      <td>1.000000</td>\n",
       "      <td>0.000000</td>\n",
       "      <td>0.000000</td>\n",
       "    </tr>\n",
       "    <tr>\n",
       "      <th>25%</th>\n",
       "      <td>51408.250000</td>\n",
       "      <td>0.000000</td>\n",
       "      <td>2.000000</td>\n",
       "      <td>1.000000</td>\n",
       "      <td>9.000000</td>\n",
       "      <td>2.000000</td>\n",
       "      <td>3.000000</td>\n",
       "      <td>2.000000</td>\n",
       "      <td>2.000000</td>\n",
       "      <td>0.000000</td>\n",
       "      <td>13.000000</td>\n",
       "      <td>1.000000</td>\n",
       "      <td>1.000000</td>\n",
       "      <td>2.000000</td>\n",
       "      <td>145.770000</td>\n",
       "    </tr>\n",
       "    <tr>\n",
       "      <th>50%</th>\n",
       "      <td>52815.500000</td>\n",
       "      <td>0.000000</td>\n",
       "      <td>9.000000</td>\n",
       "      <td>1.000000</td>\n",
       "      <td>14.000000</td>\n",
       "      <td>3.000000</td>\n",
       "      <td>4.000000</td>\n",
       "      <td>3.000000</td>\n",
       "      <td>3.000000</td>\n",
       "      <td>0.000000</td>\n",
       "      <td>15.000000</td>\n",
       "      <td>1.000000</td>\n",
       "      <td>2.000000</td>\n",
       "      <td>3.000000</td>\n",
       "      <td>163.280000</td>\n",
       "    </tr>\n",
       "    <tr>\n",
       "      <th>75%</th>\n",
       "      <td>54222.750000</td>\n",
       "      <td>0.000000</td>\n",
       "      <td>16.000000</td>\n",
       "      <td>3.000000</td>\n",
       "      <td>20.000000</td>\n",
       "      <td>3.000000</td>\n",
       "      <td>4.000000</td>\n",
       "      <td>4.000000</td>\n",
       "      <td>6.000000</td>\n",
       "      <td>1.000000</td>\n",
       "      <td>18.000000</td>\n",
       "      <td>2.000000</td>\n",
       "      <td>3.000000</td>\n",
       "      <td>7.000000</td>\n",
       "      <td>196.392500</td>\n",
       "    </tr>\n",
       "    <tr>\n",
       "      <th>max</th>\n",
       "      <td>55630.000000</td>\n",
       "      <td>1.000000</td>\n",
       "      <td>61.000000</td>\n",
       "      <td>3.000000</td>\n",
       "      <td>127.000000</td>\n",
       "      <td>5.000000</td>\n",
       "      <td>6.000000</td>\n",
       "      <td>5.000000</td>\n",
       "      <td>22.000000</td>\n",
       "      <td>1.000000</td>\n",
       "      <td>26.000000</td>\n",
       "      <td>16.000000</td>\n",
       "      <td>16.000000</td>\n",
       "      <td>46.000000</td>\n",
       "      <td>324.990000</td>\n",
       "    </tr>\n",
       "  </tbody>\n",
       "</table>\n",
       "</div>"
      ],
      "text/plain": [
       "         CustomerID        Churn       Tenure     CityTier  WarehouseToHome  \\\n",
       "count   5630.000000  5630.000000  5366.000000  5630.000000      5379.000000   \n",
       "mean   52815.500000     0.168384    10.189899     1.654707        15.639896   \n",
       "std     1625.385339     0.374240     8.557241     0.915389         8.531475   \n",
       "min    50001.000000     0.000000     0.000000     1.000000         5.000000   \n",
       "25%    51408.250000     0.000000     2.000000     1.000000         9.000000   \n",
       "50%    52815.500000     0.000000     9.000000     1.000000        14.000000   \n",
       "75%    54222.750000     0.000000    16.000000     3.000000        20.000000   \n",
       "max    55630.000000     1.000000    61.000000     3.000000       127.000000   \n",
       "\n",
       "       HourSpendOnApp  NumberOfDeviceRegistered  SatisfactionScore  \\\n",
       "count     5375.000000               5630.000000        5630.000000   \n",
       "mean         2.931535                  3.688988           3.066785   \n",
       "std          0.721926                  1.023999           1.380194   \n",
       "min          0.000000                  1.000000           1.000000   \n",
       "25%          2.000000                  3.000000           2.000000   \n",
       "50%          3.000000                  4.000000           3.000000   \n",
       "75%          3.000000                  4.000000           4.000000   \n",
       "max          5.000000                  6.000000           5.000000   \n",
       "\n",
       "       NumberOfAddress     Complain  OrderAmountHikeFromlastYear   CouponUsed  \\\n",
       "count      5630.000000  5630.000000                  5365.000000  5374.000000   \n",
       "mean          4.214032     0.284902                    15.707922     1.751023   \n",
       "std           2.583586     0.451408                     3.675485     1.894621   \n",
       "min           1.000000     0.000000                    11.000000     0.000000   \n",
       "25%           2.000000     0.000000                    13.000000     1.000000   \n",
       "50%           3.000000     0.000000                    15.000000     1.000000   \n",
       "75%           6.000000     1.000000                    18.000000     2.000000   \n",
       "max          22.000000     1.000000                    26.000000    16.000000   \n",
       "\n",
       "        OrderCount  DaySinceLastOrder  CashbackAmount  \n",
       "count  5372.000000        5323.000000     5630.000000  \n",
       "mean      3.008004           4.543491      177.223030  \n",
       "std       2.939680           3.654433       49.207036  \n",
       "min       1.000000           0.000000        0.000000  \n",
       "25%       1.000000           2.000000      145.770000  \n",
       "50%       2.000000           3.000000      163.280000  \n",
       "75%       3.000000           7.000000      196.392500  \n",
       "max      16.000000          46.000000      324.990000  "
      ]
     },
     "execution_count": 6,
     "metadata": {},
     "output_type": "execute_result"
    }
   ],
   "source": [
    "df.describe()"
   ]
  },
  {
   "cell_type": "markdown",
   "id": "82b40b13-6b17-4092-a9e5-76c87d83fb82",
   "metadata": {},
   "source": [
    "**Desriptive statistics** categorical data"
   ]
  },
  {
   "cell_type": "code",
   "execution_count": 7,
   "id": "e7a2bd84-8fe2-44ff-8c11-2b2b595e159b",
   "metadata": {},
   "outputs": [
    {
     "data": {
      "text/html": [
       "<div>\n",
       "<style scoped>\n",
       "    .dataframe tbody tr th:only-of-type {\n",
       "        vertical-align: middle;\n",
       "    }\n",
       "\n",
       "    .dataframe tbody tr th {\n",
       "        vertical-align: top;\n",
       "    }\n",
       "\n",
       "    .dataframe thead th {\n",
       "        text-align: right;\n",
       "    }\n",
       "</style>\n",
       "<table border=\"1\" class=\"dataframe\">\n",
       "  <thead>\n",
       "    <tr style=\"text-align: right;\">\n",
       "      <th></th>\n",
       "      <th>PreferredLoginDevice</th>\n",
       "      <th>PreferredPaymentMode</th>\n",
       "      <th>Gender</th>\n",
       "      <th>PreferedOrderCat</th>\n",
       "      <th>MaritalStatus</th>\n",
       "    </tr>\n",
       "  </thead>\n",
       "  <tbody>\n",
       "    <tr>\n",
       "      <th>count</th>\n",
       "      <td>5630</td>\n",
       "      <td>5630</td>\n",
       "      <td>5630</td>\n",
       "      <td>5630</td>\n",
       "      <td>5630</td>\n",
       "    </tr>\n",
       "    <tr>\n",
       "      <th>unique</th>\n",
       "      <td>3</td>\n",
       "      <td>7</td>\n",
       "      <td>2</td>\n",
       "      <td>6</td>\n",
       "      <td>3</td>\n",
       "    </tr>\n",
       "    <tr>\n",
       "      <th>top</th>\n",
       "      <td>Mobile Phone</td>\n",
       "      <td>Debit Card</td>\n",
       "      <td>Male</td>\n",
       "      <td>Laptop &amp; Accessory</td>\n",
       "      <td>Married</td>\n",
       "    </tr>\n",
       "    <tr>\n",
       "      <th>freq</th>\n",
       "      <td>2765</td>\n",
       "      <td>2314</td>\n",
       "      <td>3384</td>\n",
       "      <td>2050</td>\n",
       "      <td>2986</td>\n",
       "    </tr>\n",
       "  </tbody>\n",
       "</table>\n",
       "</div>"
      ],
      "text/plain": [
       "       PreferredLoginDevice PreferredPaymentMode Gender    PreferedOrderCat  \\\n",
       "count                  5630                 5630   5630                5630   \n",
       "unique                    3                    7      2                   6   \n",
       "top            Mobile Phone           Debit Card   Male  Laptop & Accessory   \n",
       "freq                   2765                 2314   3384                2050   \n",
       "\n",
       "       MaritalStatus  \n",
       "count           5630  \n",
       "unique             3  \n",
       "top          Married  \n",
       "freq            2986  "
      ]
     },
     "execution_count": 7,
     "metadata": {},
     "output_type": "execute_result"
    }
   ],
   "source": [
    "df.select_dtypes('object').describe()"
   ]
  },
  {
   "cell_type": "markdown",
   "id": "bc1fb86d-6c69-4a67-8ef3-280871f787be",
   "metadata": {},
   "source": [
    "# Data preparation"
   ]
  },
  {
   "cell_type": "markdown",
   "id": "52c973ed-3a5c-47d0-9b29-102a1dd15b37",
   "metadata": {},
   "source": [
    "## Handling missing values"
   ]
  },
  {
   "cell_type": "code",
   "execution_count": 8,
   "id": "34c5e83d-0d3a-46b7-927f-0ce52ab2ef4d",
   "metadata": {},
   "outputs": [
    {
     "data": {
      "text/html": [
       "<div>\n",
       "<style scoped>\n",
       "    .dataframe tbody tr th:only-of-type {\n",
       "        vertical-align: middle;\n",
       "    }\n",
       "\n",
       "    .dataframe tbody tr th {\n",
       "        vertical-align: top;\n",
       "    }\n",
       "\n",
       "    .dataframe thead th {\n",
       "        text-align: right;\n",
       "    }\n",
       "</style>\n",
       "<table border=\"1\" class=\"dataframe\">\n",
       "  <thead>\n",
       "    <tr style=\"text-align: right;\">\n",
       "      <th></th>\n",
       "      <th>Missing values</th>\n",
       "      <th>percentage(%)</th>\n",
       "      <th>data type</th>\n",
       "    </tr>\n",
       "  </thead>\n",
       "  <tbody>\n",
       "    <tr>\n",
       "      <th>DaySinceLastOrder</th>\n",
       "      <td>307</td>\n",
       "      <td>5.45</td>\n",
       "      <td>float64</td>\n",
       "    </tr>\n",
       "    <tr>\n",
       "      <th>OrderAmountHikeFromlastYear</th>\n",
       "      <td>265</td>\n",
       "      <td>4.71</td>\n",
       "      <td>float64</td>\n",
       "    </tr>\n",
       "    <tr>\n",
       "      <th>Tenure</th>\n",
       "      <td>264</td>\n",
       "      <td>4.69</td>\n",
       "      <td>float64</td>\n",
       "    </tr>\n",
       "    <tr>\n",
       "      <th>OrderCount</th>\n",
       "      <td>258</td>\n",
       "      <td>4.58</td>\n",
       "      <td>float64</td>\n",
       "    </tr>\n",
       "    <tr>\n",
       "      <th>CouponUsed</th>\n",
       "      <td>256</td>\n",
       "      <td>4.55</td>\n",
       "      <td>float64</td>\n",
       "    </tr>\n",
       "    <tr>\n",
       "      <th>HourSpendOnApp</th>\n",
       "      <td>255</td>\n",
       "      <td>4.53</td>\n",
       "      <td>float64</td>\n",
       "    </tr>\n",
       "    <tr>\n",
       "      <th>WarehouseToHome</th>\n",
       "      <td>251</td>\n",
       "      <td>4.46</td>\n",
       "      <td>float64</td>\n",
       "    </tr>\n",
       "  </tbody>\n",
       "</table>\n",
       "</div>"
      ],
      "text/plain": [
       "                             Missing values  percentage(%) data type\n",
       "DaySinceLastOrder                       307           5.45   float64\n",
       "OrderAmountHikeFromlastYear             265           4.71   float64\n",
       "Tenure                                  264           4.69   float64\n",
       "OrderCount                              258           4.58   float64\n",
       "CouponUsed                              256           4.55   float64\n",
       "HourSpendOnApp                          255           4.53   float64\n",
       "WarehouseToHome                         251           4.46   float64"
      ]
     },
     "execution_count": 8,
     "metadata": {},
     "output_type": "execute_result"
    }
   ],
   "source": [
    "feature_na = df.isna().sum().sort_values(ascending=False).to_frame().rename({0:'Missing values'},axis=1)\n",
    "feature_na = feature_na[feature_na['Missing values']!=0]\n",
    "feature_na['percentage(%)'] = round(feature_na['Missing values']/df.shape[0],4)*100\n",
    "feature_na['data type'] = df[feature_na.index.tolist()].dtypes.values\n",
    "feature_na"
   ]
  },
  {
   "cell_type": "markdown",
   "id": "9058e255-a6b2-4823-b497-d299882079b8",
   "metadata": {},
   "source": [
    "There are **7 features** which have missing values and all the percentages are **below 6%**"
   ]
  },
  {
   "cell_type": "markdown",
   "id": "3332cc8a-58de-4f35-b25c-6d7ec1a68a71",
   "metadata": {},
   "source": [
    "Since the data type of all features are **float**, whether using **mean** or **median** for filling NaN, we will first examine the outliers of each feature"
   ]
  },
  {
   "cell_type": "markdown",
   "id": "53858133-09be-4180-8ae9-700481d4a3c9",
   "metadata": {},
   "source": [
    "## Outliers of each feature above"
   ]
  },
  {
   "cell_type": "code",
   "execution_count": 9,
   "id": "ffd3d618-f7c1-4eae-862b-b9bce5bd71a8",
   "metadata": {},
   "outputs": [
    {
     "data": {
      "image/png": "[encoded data removed]",
      "text/plain": [
       "<Figure size 1296x504 with 7 Axes>"
      ]
     },
     "metadata": {
      "needs_background": "light"
     },
     "output_type": "display_data"
    }
   ],
   "source": [
    "col_na = feature_na.index.tolist()\n",
    "\n",
    "plt.figure(figsize=(18,7))\n",
    "for i in range(len(feature_na.index)):\n",
    "    plt.subplot(2, 4, i+1)\n",
    "    sns.boxplot(df[col_na[i]],fliersize=3,linewidth=0.6,color='royalblue')"
   ]
  },
  {
   "cell_type": "markdown",
   "id": "5264655c-cfeb-461f-a511-08e8e095c7df",
   "metadata": {},
   "source": [
    "Lots of outliers appear in there. Thus, safer to use median for filling missing values"
   ]
  },
  {
   "cell_type": "code",
   "execution_count": 10,
   "id": "305ae657-ee91-4f85-8f56-7acc84d82788",
   "metadata": {},
   "outputs": [],
   "source": [
    "for col in df[col_na].columns:\n",
    "    df.loc[df[col].isna(),col]=df[col].median()"
   ]
  },
  {
   "cell_type": "code",
   "execution_count": 11,
   "id": "4bc9a04d-4e68-4b81-aa5d-a14226fcb9e8",
   "metadata": {},
   "outputs": [
    {
     "data": {
      "text/plain": [
       "DaySinceLastOrder              0\n",
       "OrderAmountHikeFromlastYear    0\n",
       "Tenure                         0\n",
       "OrderCount                     0\n",
       "CouponUsed                     0\n",
       "HourSpendOnApp                 0\n",
       "WarehouseToHome                0\n",
       "dtype: int64"
      ]
     },
     "execution_count": 11,
     "metadata": {},
     "output_type": "execute_result"
    }
   ],
   "source": [
    "df[col_na].isna().sum()"
   ]
  },
  {
   "cell_type": "markdown",
   "id": "4a32ae2f-3c31-4718-93a4-b7651e53cfdf",
   "metadata": {},
   "source": [
    "## Duplicated data"
   ]
  },
  {
   "cell_type": "code",
   "execution_count": 12,
   "id": "0c96c5e9-c861-4198-845b-bc92dd9d9ebf",
   "metadata": {},
   "outputs": [
    {
     "data": {
      "text/plain": [
       "0"
      ]
     },
     "execution_count": 12,
     "metadata": {},
     "output_type": "execute_result"
    }
   ],
   "source": [
    "df.duplicated().sum()"
   ]
  },
  {
   "cell_type": "markdown",
   "id": "e8925d9e-43ea-4b81-84ae-6b3ad948dc35",
   "metadata": {},
   "source": [
    "## Distribution numerical features"
   ]
  },
  {
   "cell_type": "code",
   "execution_count": 13,
   "id": "c127270a-f12c-487a-b109-b75c8afb22f5",
   "metadata": {},
   "outputs": [
    {
     "data": {
      "image/png": "[encoded data removed]",
      "text/plain": [
       "<Figure size 1296x936 with 15 Axes>"
      ]
     },
     "metadata": {
      "needs_background": "light"
     },
     "output_type": "display_data"
    }
   ],
   "source": [
    "num_col = df.select_dtypes(exclude='object').columns\n",
    "\n",
    "plt.figure(figsize=(18,13))\n",
    "for col in range(len(num_col)):\n",
    "    plt.subplot(4,4,col+1)\n",
    "    sns.distplot(df[num_col[col]])\n",
    "    plt.ylabel('')"
   ]
  },
  {
   "cell_type": "markdown",
   "id": "7b3e0db5-43ca-4f76-accd-42ada8f9315e",
   "metadata": {},
   "source": [
    "## Inconsistent data"
   ]
  },
  {
   "cell_type": "markdown",
   "id": "c0421232-e75e-4a0b-b2c3-34f209cc7e35",
   "metadata": {},
   "source": [
    "Check whether the value has same meaning with others"
   ]
  },
  {
   "cell_type": "code",
   "execution_count": 14,
   "id": "2d5b7fde-a065-4604-b245-4652347efe80",
   "metadata": {},
   "outputs": [
    {
     "name": "stdout",
     "output_type": "stream",
     "text": [
      "Churn : [1 0] \n",
      "\n",
      "PreferredLoginDevice : ['Mobile Phone' 'Phone' 'Computer'] \n",
      "\n",
      "CityTier : [3 1 2] \n",
      "\n",
      "PreferredPaymentMode : ['Debit Card' 'UPI' 'CC' 'Cash on Delivery' 'E wallet' 'COD' 'Credit Card'] \n",
      "\n",
      "Gender : ['Female' 'Male'] \n",
      "\n",
      "HourSpendOnApp : [3. 2. 1. 0. 4. 5.] \n",
      "\n",
      "NumberOfDeviceRegistered : [3 4 5 2 1 6] \n",
      "\n",
      "PreferedOrderCat : ['Laptop & Accessory' 'Mobile' 'Mobile Phone' 'Others' 'Fashion' 'Grocery'] \n",
      "\n",
      "SatisfactionScore : [2 3 5 4 1] \n",
      "\n",
      "MaritalStatus : ['Single' 'Divorced' 'Married'] \n",
      "\n",
      "Complain : [1 0] \n",
      "\n"
     ]
    }
   ],
   "source": [
    "for col1 in df.columns:\n",
    "    if df[col1].nunique()<12:\n",
    "        print(col1,':',df[col1].unique(),'\\n')"
   ]
  },
  {
   "cell_type": "code",
   "execution_count": 15,
   "id": "eb74b480-a293-46ef-bce3-ff0000c538a9",
   "metadata": {},
   "outputs": [],
   "source": [
    "df.replace({'PreferredLoginDevice':{'Phone':'Mobile Phone'},\n",
    "            'PreferredPaymentMode':{'CC':'Credit Card',\n",
    "                                    'Cash on Delivery':'COD'},\n",
    "            'PreferedOrderCat'   :{'Mobile':'Mobile Phone'}\n",
    "           },inplace=True)"
   ]
  },
  {
   "cell_type": "markdown",
   "id": "11383f6c-df6f-4dad-8f77-c1c57680b70f",
   "metadata": {},
   "source": [
    "## Handling outliers"
   ]
  },
  {
   "cell_type": "code",
   "execution_count": 16,
   "id": "019a20d8-17d7-44fc-8206-55f2f06ccef3",
   "metadata": {},
   "outputs": [
    {
     "data": {
      "image/png": "[encoded data removed]",
      "text/plain": [
       "<Figure size 1296x864 with 13 Axes>"
      ]
     },
     "metadata": {
      "needs_background": "light"
     },
     "output_type": "display_data"
    }
   ],
   "source": [
    "num_features = (df.select_dtypes('number').nunique()>2).sort_values()[2:].index.tolist()\n",
    "\n",
    "plt.figure(figsize=(18,12))\n",
    "for col in range(len(num_features)):\n",
    "    plt.subplot(3,5,col+1)\n",
    "    sns.boxplot(df[num_features[col]],fliersize=3,linewidth=0.6)"
   ]
  },
  {
   "cell_type": "markdown",
   "id": "10625240-ff30-444b-9af2-32da1d2c6a93",
   "metadata": {},
   "source": [
    "use z-score to reduce outliers and then remove some values manually if needed"
   ]
  },
  {
   "cell_type": "code",
   "execution_count": 17,
   "id": "ac4a4bef-2435-4d90-87af-d8a552fe941c",
   "metadata": {},
   "outputs": [],
   "source": [
    "z  = np.abs(stats.zscore(df[num_features]))\n",
    "df_new = df[(z<3).all(axis=1)]"
   ]
  },
  {
   "cell_type": "code",
   "execution_count": 18,
   "id": "9d1aca19-f503-4d96-a926-7060db4045ab",
   "metadata": {},
   "outputs": [
    {
     "data": {
      "image/png": "[encoded data removed]",
      "text/plain": [
       "<Figure size 1296x864 with 13 Axes>"
      ]
     },
     "metadata": {
      "needs_background": "light"
     },
     "output_type": "display_data"
    }
   ],
   "source": [
    "plt.figure(figsize=(18,12))\n",
    "for col in range(len(num_features)):\n",
    "    plt.subplot(3,5,col+1)\n",
    "    sns.boxplot(df_new[num_features[col]],fliersize=3,linewidth=0.55,color='#2eb086')"
   ]
  },
  {
   "cell_type": "code",
   "execution_count": 19,
   "id": "78efbe78-58c5-41ff-ba0a-e61e74f891cc",
   "metadata": {},
   "outputs": [
    {
     "name": "stdout",
     "output_type": "stream",
     "text": [
      "Before remove outliers: 5630 \n",
      "After remove outliers : 5350 \n"
     ]
    }
   ],
   "source": [
    "print('Before remove outliers: {} '.format(df.shape[0]))\n",
    "print('After remove outliers : {} '.format(df_new.shape[0]))"
   ]
  },
  {
   "cell_type": "markdown",
   "id": "c71881dd-3ece-48a7-9c58-68c75a121824",
   "metadata": {},
   "source": [
    "After removing outliers, there are only 280 data removed. New dataset still contains 95% information, thus we can jump into the next process"
   ]
  },
  {
   "cell_type": "markdown",
   "id": "f19189b8-85e1-485b-842e-b96ec11b8e4c",
   "metadata": {},
   "source": [
    "# Exploratory Data Analysis"
   ]
  },
  {
   "cell_type": "markdown",
   "id": "3bbc3602-71af-44e6-99c6-f2cadd6a62c3",
   "metadata": {},
   "source": [
    "## Proportion of churn"
   ]
  },
  {
   "cell_type": "code",
   "execution_count": 20,
   "id": "95a12ae4-4967-44b5-b417-5dfd278aa2b2",
   "metadata": {},
   "outputs": [],
   "source": [
    "churn = df_new['Churn'].value_counts().to_frame()\n",
    "churn['percentage'] = round(churn['Churn']/churn['Churn'].sum()*100,2)\n",
    "churn.index = ['No','Yes']"
   ]
  },
  {
   "cell_type": "code",
   "execution_count": 21,
   "id": "7ac401a0-d0ce-46ab-aaff-99694bf11060",
   "metadata": {},
   "outputs": [
    {
     "data": {
      "image/png": "[encoded data removed]",
      "text/plain": [
       "<Figure size 1224x360 with 1 Axes>"
      ]
     },
     "metadata": {},
     "output_type": "display_data"
    }
   ],
   "source": [
    "fig,ax = plt.subplots()\n",
    "wedges, texts = ax.pie(churn.Churn,colors=['#878E88','#F55D3E'], startangle=90,wedgeprops=dict(width=0.5))\n",
    "bbox_props = dict(boxstyle=\"square,pad=0.3\", fc=\"w\", ec=\"k\", lw=0.72)\n",
    "kw = dict(arrowprops=dict(arrowstyle=\"-\"),\n",
    "          bbox=bbox_props, zorder=0, va=\"center\")\n",
    "\n",
    "for i, p in enumerate(wedges):\n",
    "    ang = (p.theta2 - p.theta1)/2. + p.theta1\n",
    "    y = np.sin(np.deg2rad(ang))\n",
    "    x = np.cos(np.deg2rad(ang))\n",
    "    horizontalalignment = {-1: \"right\", 1: \"left\"}[int(np.sign(x))]\n",
    "    connectionstyle = \"angle,angleA=0,angleB={}\".format(ang)\n",
    "    kw[\"arrowprops\"].update({\"connectionstyle\": connectionstyle})\n",
    "    ax.annotate(churn.index[i] + \" ( \" + str(round(churn.percentage[i], 2)) + \"% )\", xy=(x, y), \n",
    "                xytext=(1.35*np.sign(x), 1.4*y),horizontalalignment=horizontalalignment, **kw)"
   ]
  },
  {
   "cell_type": "markdown",
   "id": "7bd4ce08-35aa-4797-b19c-f6fb70b3a485",
   "metadata": {},
   "source": [
    "**17.05% of customers** in this data are churned"
   ]
  },
  {
   "cell_type": "markdown",
   "id": "2112c5a5-c186-43a1-a789-49ef508c3090",
   "metadata": {},
   "source": [
    "## Deep-dive Analysis"
   ]
  },
  {
   "cell_type": "markdown",
   "id": "7a279e8c-4c16-4260-bff0-eb1c63a3ec4c",
   "metadata": {},
   "source": [
    "Define function"
   ]
  },
  {
   "cell_type": "code",
   "execution_count": 22,
   "id": "1892ed1c-e1d5-46a6-9ccf-e60152e5b0a2",
   "metadata": {},
   "outputs": [],
   "source": [
    "def analysis_cat(feature, xaxis=0):\n",
    "    count     = df_new[feature].value_counts()\n",
    "    pct_count = df_new[feature].value_counts(normalize=True)\n",
    "    df_count  = pd.DataFrame({feature:count.index,\n",
    "                              'Count':count.values,\n",
    "                              'Percentage':round(pct_count*100,2)                              \n",
    "                              })\n",
    "    \n",
    "    \n",
    "    # Calculate the percentage of customer churned per category\n",
    "    cat_pct               = df_new[df_new.Churn==1][feature].value_counts().to_frame()\n",
    "    cat_pct['percentage'] = round(cat_pct[feature]/df_new[feature].value_counts()*100,2)\n",
    "    cat_pct               = cat_pct.reset_index().sort_values('index')\n",
    "    \n",
    "    \n",
    "    fig, ax = plt.subplots(1,2,figsize=(17,6))\n",
    "    \n",
    "    sns.countplot(feature, data=df_new, ax=ax[0], hue='Churn', palette = ['lightgrey','#F55D3E'],order=cat_pct['index'])\n",
    "    ax[0].set_title(feature+'\\n', fontsize = 15, fontweight = 550)\n",
    "    ax[0].legend(['Not churn', 'Churn'])\n",
    "    # ax[0].set_yticks(df_new.groupby(['Churn',feature]).count()['Tenure'].values)\n",
    "    ax[0].set_ylabel('')\n",
    "    \n",
    "    sns.barplot('index', 'percentage',data=cat_pct, ax=ax[1],color='#F55D3E',order=cat_pct['index'])\n",
    "    ax[1].set_title('% Churn rate by '+feature+'\\n', fontsize= 16, fontweight=550)\n",
    "    ax[1].set_ylabel('Churn percentage')\n",
    "    for x, y in zip(range(len(cat_pct['index'])), cat_pct.percentage):\n",
    "        ax[1].text(x-xaxis, y+0.4, str(y)+'%', fontsize=10, color='#F55D3E', fontweight=550)\n",
    "    \n",
    "    ax[0].set_xlabel('')\n",
    "    ax[1].set_xlabel('')\n",
    "    return df_count\n",
    "    \n",
    "def analysis_num(feature,bins='auto'):\n",
    "    sns.histplot(df_new[df_new['Churn']==1][feature], label='Churn', color='#F55D3E',kde=True, edgecolor='#F55D3E',bins=bins)\n",
    "    sns.histplot(df_new[df_new['Churn']==0][feature], label='No churn', color='tab:grey', kde=True,edgecolor='lightgrey',bins=bins)\n",
    "    \n",
    "    plt.legend()\n",
    "    plt.title(feature+' by Customer churn',fontsize=16, fontweight=550)\n",
    "    plt.ylabel('')\n",
    "    \n",
    "    plt.rc('axes',axisbelow=True)\n",
    "    plt.grid(False)\n",
    "    plt.grid(axis='y',alpha=0.3)\n",
    "    plt.show()"
   ]
  },
  {
   "cell_type": "markdown",
   "id": "02374770-68fe-44b1-881b-41097c76a2d9",
   "metadata": {
    "tags": []
   },
   "source": [
    "### Categorical"
   ]
  },
  {
   "cell_type": "markdown",
   "id": "4006d62a-a4c5-42d5-93e6-653716450237",
   "metadata": {
    "tags": []
   },
   "source": [
    "Features:\n",
    "- **Device customer** ( nominal )             \n",
    "- **City level** ( ordinal )\n",
    "- **Payment mode** ( nominal )\n",
    "- **Gender** ( nominal )\n",
    "- **Item category** ( nominal )\n",
    "- **Satisfaction score** ( ordinal )\n",
    "- **Marital status** ( nominal )\n",
    "- **Complain** ( nominal )"
   ]
  },
  {
   "cell_type": "markdown",
   "id": "08454bc3-baf9-4caa-b770-aa84f2be584e",
   "metadata": {
    "tags": []
   },
   "source": [
    "#### Device customer"
   ]
  },
  {
   "cell_type": "markdown",
   "id": "32e734b8-d9b1-4dcb-983a-53be3a16f159",
   "metadata": {
    "tags": []
   },
   "source": [
    "Mobile phone and computer"
   ]
  },
  {
   "cell_type": "code",
   "execution_count": 23,
   "id": "616a0460-c490-4887-9cbf-ac7c87bad68d",
   "metadata": {
    "tags": []
   },
   "outputs": [
    {
     "data": {
      "text/html": [
       "<div>\n",
       "<style scoped>\n",
       "    .dataframe tbody tr th:only-of-type {\n",
       "        vertical-align: middle;\n",
       "    }\n",
       "\n",
       "    .dataframe tbody tr th {\n",
       "        vertical-align: top;\n",
       "    }\n",
       "\n",
       "    .dataframe thead th {\n",
       "        text-align: right;\n",
       "    }\n",
       "</style>\n",
       "<table border=\"1\" class=\"dataframe\">\n",
       "  <thead>\n",
       "    <tr style=\"text-align: right;\">\n",
       "      <th></th>\n",
       "      <th>PreferredLoginDevice</th>\n",
       "      <th>Count</th>\n",
       "      <th>Percentage</th>\n",
       "    </tr>\n",
       "  </thead>\n",
       "  <tbody>\n",
       "    <tr>\n",
       "      <th>Mobile Phone</th>\n",
       "      <td>Mobile Phone</td>\n",
       "      <td>3803</td>\n",
       "      <td>71.08</td>\n",
       "    </tr>\n",
       "    <tr>\n",
       "      <th>Computer</th>\n",
       "      <td>Computer</td>\n",
       "      <td>1547</td>\n",
       "      <td>28.92</td>\n",
       "    </tr>\n",
       "  </tbody>\n",
       "</table>\n",
       "</div>"
      ],
      "text/plain": [
       "             PreferredLoginDevice  Count  Percentage\n",
       "Mobile Phone         Mobile Phone   3803       71.08\n",
       "Computer                 Computer   1547       28.92"
      ]
     },
     "execution_count": 23,
     "metadata": {},
     "output_type": "execute_result"
    },
    {
     "data": {
      "image/png": "[encoded data removed]",
      "text/plain": [
       "<Figure size 1224x432 with 2 Axes>"
      ]
     },
     "metadata": {
      "needs_background": "light"
     },
     "output_type": "display_data"
    }
   ],
   "source": [
    "analysis_cat('PreferredLoginDevice', 0.13)"
   ]
  },
  {
   "cell_type": "markdown",
   "id": "8e17a831-cf11-4f26-b945-086727d982b8",
   "metadata": {},
   "source": [
    "The graph on the right shows us a number of customer churn per total customer each feature category "
   ]
  },
  {
   "cell_type": "markdown",
   "id": "03d25ec4-9c9f-4e04-bfd0-f4e19ac1d738",
   "metadata": {},
   "source": [
    "- Mostly, the customer uses **Mobile Phone** for making transactions *( 71% of data )*\n",
    "- Even though Mobile Phone is the most, customers who use **Computer** are more likely to **churn**"
   ]
  },
  {
   "cell_type": "markdown",
   "id": "cc9988ac-7b32-4a53-be4a-1cf0276cc13b",
   "metadata": {},
   "source": [
    "#### City level"
   ]
  },
  {
   "cell_type": "code",
   "execution_count": 24,
   "id": "299b4404-211b-43fa-a9a7-b5237bffb21e",
   "metadata": {},
   "outputs": [
    {
     "data": {
      "text/html": [
       "<div>\n",
       "<style scoped>\n",
       "    .dataframe tbody tr th:only-of-type {\n",
       "        vertical-align: middle;\n",
       "    }\n",
       "\n",
       "    .dataframe tbody tr th {\n",
       "        vertical-align: top;\n",
       "    }\n",
       "\n",
       "    .dataframe thead th {\n",
       "        text-align: right;\n",
       "    }\n",
       "</style>\n",
       "<table border=\"1\" class=\"dataframe\">\n",
       "  <thead>\n",
       "    <tr style=\"text-align: right;\">\n",
       "      <th></th>\n",
       "      <th>CityTier</th>\n",
       "      <th>Count</th>\n",
       "      <th>Percentage</th>\n",
       "    </tr>\n",
       "  </thead>\n",
       "  <tbody>\n",
       "    <tr>\n",
       "      <th>1</th>\n",
       "      <td>1</td>\n",
       "      <td>3485</td>\n",
       "      <td>65.14</td>\n",
       "    </tr>\n",
       "    <tr>\n",
       "      <th>3</th>\n",
       "      <td>3</td>\n",
       "      <td>1627</td>\n",
       "      <td>30.41</td>\n",
       "    </tr>\n",
       "    <tr>\n",
       "      <th>2</th>\n",
       "      <td>2</td>\n",
       "      <td>238</td>\n",
       "      <td>4.45</td>\n",
       "    </tr>\n",
       "  </tbody>\n",
       "</table>\n",
       "</div>"
      ],
      "text/plain": [
       "   CityTier  Count  Percentage\n",
       "1         1   3485       65.14\n",
       "3         3   1627       30.41\n",
       "2         2    238        4.45"
      ]
     },
     "execution_count": 24,
     "metadata": {},
     "output_type": "execute_result"
    },
    {
     "data": {
      "image/png": "[encoded data removed]",
      "text/plain": [
       "<Figure size 1224x432 with 2 Axes>"
      ]
     },
     "metadata": {
      "needs_background": "light"
     },
     "output_type": "display_data"
    }
   ],
   "source": [
    "analysis_cat('CityTier',0.14)"
   ]
  },
  {
   "cell_type": "markdown",
   "id": "e9fa77fa-6e14-429b-9bb1-963c4de1a91d",
   "metadata": {},
   "source": [
    "Same like  *PreferredLoginDevice*, even though **City tier 1** is the most of not churned customers, the percentage tend to be churn is **less** than the others"
   ]
  },
  {
   "cell_type": "markdown",
   "id": "b9924983-6aab-4478-adfc-64859e65aeb3",
   "metadata": {},
   "source": [
    "#### Payment Mode"
   ]
  },
  {
   "cell_type": "code",
   "execution_count": 25,
   "id": "a8442449-c398-441b-82f5-e35c9bfb688f",
   "metadata": {},
   "outputs": [
    {
     "data": {
      "text/html": [
       "<div>\n",
       "<style scoped>\n",
       "    .dataframe tbody tr th:only-of-type {\n",
       "        vertical-align: middle;\n",
       "    }\n",
       "\n",
       "    .dataframe tbody tr th {\n",
       "        vertical-align: top;\n",
       "    }\n",
       "\n",
       "    .dataframe thead th {\n",
       "        text-align: right;\n",
       "    }\n",
       "</style>\n",
       "<table border=\"1\" class=\"dataframe\">\n",
       "  <thead>\n",
       "    <tr style=\"text-align: right;\">\n",
       "      <th></th>\n",
       "      <th>PreferredPaymentMode</th>\n",
       "      <th>Count</th>\n",
       "      <th>Percentage</th>\n",
       "    </tr>\n",
       "  </thead>\n",
       "  <tbody>\n",
       "    <tr>\n",
       "      <th>Debit Card</th>\n",
       "      <td>Debit Card</td>\n",
       "      <td>2195</td>\n",
       "      <td>41.03</td>\n",
       "    </tr>\n",
       "    <tr>\n",
       "      <th>Credit Card</th>\n",
       "      <td>Credit Card</td>\n",
       "      <td>1686</td>\n",
       "      <td>31.51</td>\n",
       "    </tr>\n",
       "    <tr>\n",
       "      <th>E wallet</th>\n",
       "      <td>E wallet</td>\n",
       "      <td>579</td>\n",
       "      <td>10.82</td>\n",
       "    </tr>\n",
       "    <tr>\n",
       "      <th>COD</th>\n",
       "      <td>COD</td>\n",
       "      <td>489</td>\n",
       "      <td>9.14</td>\n",
       "    </tr>\n",
       "    <tr>\n",
       "      <th>UPI</th>\n",
       "      <td>UPI</td>\n",
       "      <td>401</td>\n",
       "      <td>7.50</td>\n",
       "    </tr>\n",
       "  </tbody>\n",
       "</table>\n",
       "</div>"
      ],
      "text/plain": [
       "            PreferredPaymentMode  Count  Percentage\n",
       "Debit Card            Debit Card   2195       41.03\n",
       "Credit Card          Credit Card   1686       31.51\n",
       "E wallet                E wallet    579       10.82\n",
       "COD                          COD    489        9.14\n",
       "UPI                          UPI    401        7.50"
      ]
     },
     "execution_count": 25,
     "metadata": {},
     "output_type": "execute_result"
    },
    {
     "data": {
      "image/png": "[encoded data removed]",
      "text/plain": [
       "<Figure size 1224x432 with 2 Axes>"
      ]
     },
     "metadata": {
      "needs_background": "light"
     },
     "output_type": "display_data"
    }
   ],
   "source": [
    "analysis_cat('PreferredPaymentMode',0.25)"
   ]
  },
  {
   "cell_type": "markdown",
   "id": "b701b03f-e307-4641-8c1b-248c76fbb08b",
   "metadata": {},
   "source": [
    "- **Debit card** is the most payment method used by customers\n",
    "- **COD and **E-wallet** users are more likely to be ***churn*** than others even though the number of ***not churn*** customers is much less than Debit cards, while **Credit** and **Debit Cards** are the opposite"
   ]
  },
  {
   "cell_type": "markdown",
   "id": "ce4ad089-e1f2-49c2-a84b-91224fb3439b",
   "metadata": {},
   "source": [
    "#### Gender"
   ]
  },
  {
   "cell_type": "code",
   "execution_count": 26,
   "id": "52fc77ef-b715-40e5-a19e-6155869f81b1",
   "metadata": {},
   "outputs": [
    {
     "data": {
      "text/html": [
       "<div>\n",
       "<style scoped>\n",
       "    .dataframe tbody tr th:only-of-type {\n",
       "        vertical-align: middle;\n",
       "    }\n",
       "\n",
       "    .dataframe tbody tr th {\n",
       "        vertical-align: top;\n",
       "    }\n",
       "\n",
       "    .dataframe thead th {\n",
       "        text-align: right;\n",
       "    }\n",
       "</style>\n",
       "<table border=\"1\" class=\"dataframe\">\n",
       "  <thead>\n",
       "    <tr style=\"text-align: right;\">\n",
       "      <th></th>\n",
       "      <th>Gender</th>\n",
       "      <th>Count</th>\n",
       "      <th>Percentage</th>\n",
       "    </tr>\n",
       "  </thead>\n",
       "  <tbody>\n",
       "    <tr>\n",
       "      <th>Male</th>\n",
       "      <td>Male</td>\n",
       "      <td>3214</td>\n",
       "      <td>60.07</td>\n",
       "    </tr>\n",
       "    <tr>\n",
       "      <th>Female</th>\n",
       "      <td>Female</td>\n",
       "      <td>2136</td>\n",
       "      <td>39.93</td>\n",
       "    </tr>\n",
       "  </tbody>\n",
       "</table>\n",
       "</div>"
      ],
      "text/plain": [
       "        Gender  Count  Percentage\n",
       "Male      Male   3214       60.07\n",
       "Female  Female   2136       39.93"
      ]
     },
     "execution_count": 26,
     "metadata": {},
     "output_type": "execute_result"
    },
    {
     "data": {
      "image/png": "[encoded data removed]",
      "text/plain": [
       "<Figure size 1224x432 with 2 Axes>"
      ]
     },
     "metadata": {
      "needs_background": "light"
     },
     "output_type": "display_data"
    }
   ],
   "source": [
    "analysis_cat('Gender',0.1)"
   ]
  },
  {
   "cell_type": "markdown",
   "id": "1535349c-9eeb-4072-a967-bc5699eec2ba",
   "metadata": {},
   "source": [
    "**Male customer** has a higher chance to be churn than **female**. Nevertheless, the difference of churn probability between those two isn't huge even though the number of male customers is 60% of data"
   ]
  },
  {
   "cell_type": "markdown",
   "id": "3dec2ac0-071b-4760-bd12-bc3948bb5e7e",
   "metadata": {},
   "source": [
    "#### Item category"
   ]
  },
  {
   "cell_type": "code",
   "execution_count": 27,
   "id": "52593339-3c9f-4c4e-ad93-2840bf8c1b65",
   "metadata": {},
   "outputs": [
    {
     "data": {
      "text/html": [
       "<div>\n",
       "<style scoped>\n",
       "    .dataframe tbody tr th:only-of-type {\n",
       "        vertical-align: middle;\n",
       "    }\n",
       "\n",
       "    .dataframe tbody tr th {\n",
       "        vertical-align: top;\n",
       "    }\n",
       "\n",
       "    .dataframe thead th {\n",
       "        text-align: right;\n",
       "    }\n",
       "</style>\n",
       "<table border=\"1\" class=\"dataframe\">\n",
       "  <thead>\n",
       "    <tr style=\"text-align: right;\">\n",
       "      <th></th>\n",
       "      <th>PreferedOrderCat</th>\n",
       "      <th>Count</th>\n",
       "      <th>Percentage</th>\n",
       "    </tr>\n",
       "  </thead>\n",
       "  <tbody>\n",
       "    <tr>\n",
       "      <th>Mobile Phone</th>\n",
       "      <td>Mobile Phone</td>\n",
       "      <td>2053</td>\n",
       "      <td>38.37</td>\n",
       "    </tr>\n",
       "    <tr>\n",
       "      <th>Laptop &amp; Accessory</th>\n",
       "      <td>Laptop &amp; Accessory</td>\n",
       "      <td>2000</td>\n",
       "      <td>37.38</td>\n",
       "    </tr>\n",
       "    <tr>\n",
       "      <th>Fashion</th>\n",
       "      <td>Fashion</td>\n",
       "      <td>752</td>\n",
       "      <td>14.06</td>\n",
       "    </tr>\n",
       "    <tr>\n",
       "      <th>Grocery</th>\n",
       "      <td>Grocery</td>\n",
       "      <td>332</td>\n",
       "      <td>6.21</td>\n",
       "    </tr>\n",
       "    <tr>\n",
       "      <th>Others</th>\n",
       "      <td>Others</td>\n",
       "      <td>213</td>\n",
       "      <td>3.98</td>\n",
       "    </tr>\n",
       "  </tbody>\n",
       "</table>\n",
       "</div>"
      ],
      "text/plain": [
       "                      PreferedOrderCat  Count  Percentage\n",
       "Mobile Phone              Mobile Phone   2053       38.37\n",
       "Laptop & Accessory  Laptop & Accessory   2000       37.38\n",
       "Fashion                        Fashion    752       14.06\n",
       "Grocery                        Grocery    332        6.21\n",
       "Others                          Others    213        3.98"
      ]
     },
     "execution_count": 27,
     "metadata": {},
     "output_type": "execute_result"
    },
    {
     "data": {
      "image/png": "[encoded data removed]",
      "text/plain": [
       "<Figure size 1224x432 with 2 Axes>"
      ]
     },
     "metadata": {
      "needs_background": "light"
     },
     "output_type": "display_data"
    }
   ],
   "source": [
    "analysis_cat('PreferedOrderCat',0.21)"
   ]
  },
  {
   "cell_type": "markdown",
   "id": "61a713a1-df75-49c2-ab5d-6be677078636",
   "metadata": {},
   "source": [
    "- **Mobile phone** and **Laptop/accessory** categories are the items **most purchased** by customers *( in total, about 80% )*, but those who bought **mobile phone** have a much **higher chance of churn** than they who bought **laptop/accessory**\n",
    "- People who often buy **groceries** and **others** have a small chance of churn relative to others. Customers from these two categories amount to 10% of a whole data"
   ]
  },
  {
   "cell_type": "markdown",
   "id": "feec54b6-6845-45b0-8e2a-b9cc4a7830d3",
   "metadata": {},
   "source": [
    "#### Satisfaction"
   ]
  },
  {
   "cell_type": "code",
   "execution_count": 28,
   "id": "e9d9cf07-8291-4b45-9c93-aee91ad95fb7",
   "metadata": {},
   "outputs": [
    {
     "data": {
      "text/html": [
       "<div>\n",
       "<style scoped>\n",
       "    .dataframe tbody tr th:only-of-type {\n",
       "        vertical-align: middle;\n",
       "    }\n",
       "\n",
       "    .dataframe tbody tr th {\n",
       "        vertical-align: top;\n",
       "    }\n",
       "\n",
       "    .dataframe thead th {\n",
       "        text-align: right;\n",
       "    }\n",
       "</style>\n",
       "<table border=\"1\" class=\"dataframe\">\n",
       "  <thead>\n",
       "    <tr style=\"text-align: right;\">\n",
       "      <th></th>\n",
       "      <th>SatisfactionScore</th>\n",
       "      <th>Count</th>\n",
       "      <th>Percentage</th>\n",
       "    </tr>\n",
       "  </thead>\n",
       "  <tbody>\n",
       "    <tr>\n",
       "      <th>3</th>\n",
       "      <td>3</td>\n",
       "      <td>1620</td>\n",
       "      <td>30.28</td>\n",
       "    </tr>\n",
       "    <tr>\n",
       "      <th>1</th>\n",
       "      <td>1</td>\n",
       "      <td>1118</td>\n",
       "      <td>20.90</td>\n",
       "    </tr>\n",
       "    <tr>\n",
       "      <th>5</th>\n",
       "      <td>5</td>\n",
       "      <td>1034</td>\n",
       "      <td>19.33</td>\n",
       "    </tr>\n",
       "    <tr>\n",
       "      <th>4</th>\n",
       "      <td>4</td>\n",
       "      <td>1024</td>\n",
       "      <td>19.14</td>\n",
       "    </tr>\n",
       "    <tr>\n",
       "      <th>2</th>\n",
       "      <td>2</td>\n",
       "      <td>554</td>\n",
       "      <td>10.36</td>\n",
       "    </tr>\n",
       "  </tbody>\n",
       "</table>\n",
       "</div>"
      ],
      "text/plain": [
       "   SatisfactionScore  Count  Percentage\n",
       "3                  3   1620       30.28\n",
       "1                  1   1118       20.90\n",
       "5                  5   1034       19.33\n",
       "4                  4   1024       19.14\n",
       "2                  2    554       10.36"
      ]
     },
     "execution_count": 28,
     "metadata": {},
     "output_type": "execute_result"
    },
    {
     "data": {
      "image/png": "[encoded data removed]",
      "text/plain": [
       "<Figure size 1224x432 with 2 Axes>"
      ]
     },
     "metadata": {
      "needs_background": "light"
     },
     "output_type": "display_data"
    }
   ],
   "source": [
    "analysis_cat('SatisfactionScore',0.2)"
   ]
  },
  {
   "cell_type": "markdown",
   "id": "9254b26d-94c7-40b3-9856-dcb80b664834",
   "metadata": {},
   "source": [
    "There is an interesting insight from the graph above; Although customers are satistied (*represented by a score of \"5\"*), they tend to churn more easily. The chance is even 2x higher than a score of \"1\""
   ]
  },
  {
   "cell_type": "markdown",
   "id": "332be8a5-1356-42e2-a961-0b2a2fae89f1",
   "metadata": {},
   "source": [
    "#### Marital status"
   ]
  },
  {
   "cell_type": "code",
   "execution_count": 29,
   "id": "fc8e05c5-cb5f-472e-926f-80b80cb5d5ac",
   "metadata": {},
   "outputs": [
    {
     "data": {
      "text/html": [
       "<div>\n",
       "<style scoped>\n",
       "    .dataframe tbody tr th:only-of-type {\n",
       "        vertical-align: middle;\n",
       "    }\n",
       "\n",
       "    .dataframe tbody tr th {\n",
       "        vertical-align: top;\n",
       "    }\n",
       "\n",
       "    .dataframe thead th {\n",
       "        text-align: right;\n",
       "    }\n",
       "</style>\n",
       "<table border=\"1\" class=\"dataframe\">\n",
       "  <thead>\n",
       "    <tr style=\"text-align: right;\">\n",
       "      <th></th>\n",
       "      <th>MaritalStatus</th>\n",
       "      <th>Count</th>\n",
       "      <th>Percentage</th>\n",
       "    </tr>\n",
       "  </thead>\n",
       "  <tbody>\n",
       "    <tr>\n",
       "      <th>Married</th>\n",
       "      <td>Married</td>\n",
       "      <td>2825</td>\n",
       "      <td>52.80</td>\n",
       "    </tr>\n",
       "    <tr>\n",
       "      <th>Single</th>\n",
       "      <td>Single</td>\n",
       "      <td>1722</td>\n",
       "      <td>32.19</td>\n",
       "    </tr>\n",
       "    <tr>\n",
       "      <th>Divorced</th>\n",
       "      <td>Divorced</td>\n",
       "      <td>803</td>\n",
       "      <td>15.01</td>\n",
       "    </tr>\n",
       "  </tbody>\n",
       "</table>\n",
       "</div>"
      ],
      "text/plain": [
       "         MaritalStatus  Count  Percentage\n",
       "Married        Married   2825       52.80\n",
       "Single          Single   1722       32.19\n",
       "Divorced      Divorced    803       15.01"
      ]
     },
     "execution_count": 29,
     "metadata": {},
     "output_type": "execute_result"
    },
    {
     "data": {
      "image/png": "[encoded data removed]",
      "text/plain": [
       "<Figure size 1224x432 with 2 Axes>"
      ]
     },
     "metadata": {
      "needs_background": "light"
     },
     "output_type": "display_data"
    }
   ],
   "source": [
    "analysis_cat('MaritalStatus',0.15)"
   ]
  },
  {
   "cell_type": "markdown",
   "id": "934ea9c6-1069-481d-b89e-891a7acd303f",
   "metadata": {},
   "source": [
    "- More than a half of data is **married** people. Also they have the smallest chance of churn\n",
    "- The number of **\"single\"** customers is about 32% of a whole data and they are more likely to churn, more than 2x **Married's** "
   ]
  },
  {
   "cell_type": "markdown",
   "id": "5ab7f679-3bc0-4ced-a8d4-3b536357674a",
   "metadata": {},
   "source": [
    "#### Complain\n",
    "- Complain itself\n",
    "- Complain by item category \n",
    "- Complain by gender"
   ]
  },
  {
   "cell_type": "code",
   "execution_count": 30,
   "id": "69cd0308-99df-4dd2-8f5c-b52ee604cea8",
   "metadata": {},
   "outputs": [
    {
     "data": {
      "text/html": [
       "<div>\n",
       "<style scoped>\n",
       "    .dataframe tbody tr th:only-of-type {\n",
       "        vertical-align: middle;\n",
       "    }\n",
       "\n",
       "    .dataframe tbody tr th {\n",
       "        vertical-align: top;\n",
       "    }\n",
       "\n",
       "    .dataframe thead th {\n",
       "        text-align: right;\n",
       "    }\n",
       "</style>\n",
       "<table border=\"1\" class=\"dataframe\">\n",
       "  <thead>\n",
       "    <tr style=\"text-align: right;\">\n",
       "      <th></th>\n",
       "      <th>Complain</th>\n",
       "      <th>Count</th>\n",
       "      <th>Percentage</th>\n",
       "    </tr>\n",
       "  </thead>\n",
       "  <tbody>\n",
       "    <tr>\n",
       "      <th>0</th>\n",
       "      <td>0</td>\n",
       "      <td>3818</td>\n",
       "      <td>71.36</td>\n",
       "    </tr>\n",
       "    <tr>\n",
       "      <th>1</th>\n",
       "      <td>1</td>\n",
       "      <td>1532</td>\n",
       "      <td>28.64</td>\n",
       "    </tr>\n",
       "  </tbody>\n",
       "</table>\n",
       "</div>"
      ],
      "text/plain": [
       "   Complain  Count  Percentage\n",
       "0         0   3818       71.36\n",
       "1         1   1532       28.64"
      ]
     },
     "execution_count": 30,
     "metadata": {},
     "output_type": "execute_result"
    },
    {
     "data": {
      "image/png": "[encoded data removed]",
      "text/plain": [
       "<Figure size 1224x432 with 2 Axes>"
      ]
     },
     "metadata": {
      "needs_background": "light"
     },
     "output_type": "display_data"
    }
   ],
   "source": [
    "analysis_cat('Complain',0.1)"
   ]
  },
  {
   "cell_type": "markdown",
   "id": "240220b2-8b69-47d0-8361-3f2d3e3807b4",
   "metadata": {},
   "source": [
    "**It does make sense. The more complains, the more customers churn**"
   ]
  },
  {
   "cell_type": "markdown",
   "id": "370d65bb-85c5-4698-a1f4-b1f297201540",
   "metadata": {},
   "source": [
    "Number of **\"no complain\"** customers is about 72% and their chance of churn is just **10.9%**"
   ]
  },
  {
   "cell_type": "markdown",
   "id": "8cfe38f8-aa86-40b2-82e2-e57cf483410e",
   "metadata": {},
   "source": [
    "##### Complain by item category and gender\n",
    "What is category which has lots of complaints?"
   ]
  },
  {
   "cell_type": "code",
   "execution_count": 74,
   "id": "fb89d8be-0476-43d8-92f5-7c38ada98edd",
   "metadata": {},
   "outputs": [],
   "source": [
    "com_cat_gen = df_new.groupby(['PreferedOrderCat','Complain','Gender']).count()['Tenure'].to_frame().reset_index()\n",
    "com_cat_gen = com_cat_gen[com_cat_gen['Complain']==1]\n",
    "com_cat_gen.columns = ['Category','Complain','Gender','Counts']\n",
    "com_cat_gen['percentage'] = round(com_cat_gen.Counts/com_cat_gen.Counts.sum()*100,2)"
   ]
  },
  {
   "cell_type": "code",
   "execution_count": 86,
   "id": "86cb2f48-dd48-42d5-a30f-eaf2a4c3845a",
   "metadata": {},
   "outputs": [
    {
     "data": {
      "image/png": "[encoded data removed]",
      "text/plain": [
       "<Figure size 1440x360 with 2 Axes>"
      ]
     },
     "metadata": {
      "needs_background": "light"
     },
     "output_type": "display_data"
    }
   ],
   "source": [
    "com_yes = com_cat_gen.groupby('Category').sum().reset_index()\n",
    "\n",
    "fig, ax = plt.subplots(1,2, figsize=(20,5))\n",
    "\n",
    "sns.barplot('Category','Counts',data=com_yes, color ='#F55D3E',ax=ax[0])\n",
    "ax[0].set_title('Number of complaints by each item category\\n', size=16, fontweight=550)\n",
    "ax[0].set_xlabel('')\n",
    "ax[0].set_ylabel('')\n",
    "\n",
    "sns.barplot('Category','Counts',data=com_cat_gen, hue='Gender', palette=['pink','skyblue'])\n",
    "ax[1].set_title('Complaint by gender each category\\n',size=16, fontweight='bold')\n",
    "ax[1].set_xlabel('')\n",
    "ax[1].set_ylabel('')\n",
    "\n",
    "\n",
    "for x, y, z in zip(range(len(com_yes.Category)),com_yes.Counts, round(com_yes.percentage,2)):\n",
    "    ax[0].text(x-0.22, y+10, str(z)+'%',fontsize=12, color='#f55d3e',fontweight='semibold')\n",
    "\n",
    "plt.show()"
   ]
  },
  {
   "cell_type": "markdown",
   "id": "f739c933-c307-49c6-9b70-233b7e60c413",
   "metadata": {},
   "source": [
    "**Mobile phone** and **Laptop/Accessory** have lots of complaints *( in total, about 75% )*. There are a lot of factors why the most complaints are in both categories. It might caused by inappropiate courier while in delivery. But still, this assumption has to be proved by asking to the team in charge what types of complainst by customers\n",
    "- **Only groceries** where a number of complaints in Male are less than Female. It does make sense since females often take care of the kitchen stuff including groceries. For the rest, Male is the most. \n",
    "- In **Laptop/Accessory**, Male and Female have a small difference in number"
   ]
  },
  {
   "cell_type": "code",
   "execution_count": 88,
   "id": "36618684-4265-42a6-803e-37c27473d937",
   "metadata": {},
   "outputs": [
    {
     "data": {
      "text/html": [
       "<div>\n",
       "<style scoped>\n",
       "    .dataframe tbody tr th:only-of-type {\n",
       "        vertical-align: middle;\n",
       "    }\n",
       "\n",
       "    .dataframe tbody tr th {\n",
       "        vertical-align: top;\n",
       "    }\n",
       "\n",
       "    .dataframe thead th {\n",
       "        text-align: right;\n",
       "    }\n",
       "</style>\n",
       "<table border=\"1\" class=\"dataframe\">\n",
       "  <thead>\n",
       "    <tr style=\"text-align: right;\">\n",
       "      <th></th>\n",
       "      <th>CustomerID</th>\n",
       "      <th>Churn</th>\n",
       "      <th>Tenure</th>\n",
       "      <th>PreferredLoginDevice</th>\n",
       "      <th>CityTier</th>\n",
       "      <th>WarehouseToHome</th>\n",
       "      <th>PreferredPaymentMode</th>\n",
       "      <th>Gender</th>\n",
       "      <th>HourSpendOnApp</th>\n",
       "      <th>NumberOfDeviceRegistered</th>\n",
       "      <th>PreferedOrderCat</th>\n",
       "      <th>SatisfactionScore</th>\n",
       "      <th>MaritalStatus</th>\n",
       "      <th>NumberOfAddress</th>\n",
       "      <th>Complain</th>\n",
       "      <th>OrderAmountHikeFromlastYear</th>\n",
       "      <th>CouponUsed</th>\n",
       "      <th>OrderCount</th>\n",
       "      <th>DaySinceLastOrder</th>\n",
       "      <th>CashbackAmount</th>\n",
       "    </tr>\n",
       "  </thead>\n",
       "  <tbody>\n",
       "    <tr>\n",
       "      <th>0</th>\n",
       "      <td>50001</td>\n",
       "      <td>1</td>\n",
       "      <td>4.0</td>\n",
       "      <td>Mobile Phone</td>\n",
       "      <td>3</td>\n",
       "      <td>6.0</td>\n",
       "      <td>Debit Card</td>\n",
       "      <td>Female</td>\n",
       "      <td>3.0</td>\n",
       "      <td>3</td>\n",
       "      <td>Laptop &amp; Accessory</td>\n",
       "      <td>2</td>\n",
       "      <td>Single</td>\n",
       "      <td>9</td>\n",
       "      <td>1</td>\n",
       "      <td>11.0</td>\n",
       "      <td>1.0</td>\n",
       "      <td>1.0</td>\n",
       "      <td>5.0</td>\n",
       "      <td>159.93</td>\n",
       "    </tr>\n",
       "    <tr>\n",
       "      <th>1</th>\n",
       "      <td>50002</td>\n",
       "      <td>1</td>\n",
       "      <td>9.0</td>\n",
       "      <td>Mobile Phone</td>\n",
       "      <td>1</td>\n",
       "      <td>8.0</td>\n",
       "      <td>UPI</td>\n",
       "      <td>Male</td>\n",
       "      <td>3.0</td>\n",
       "      <td>4</td>\n",
       "      <td>Mobile Phone</td>\n",
       "      <td>3</td>\n",
       "      <td>Single</td>\n",
       "      <td>7</td>\n",
       "      <td>1</td>\n",
       "      <td>15.0</td>\n",
       "      <td>0.0</td>\n",
       "      <td>1.0</td>\n",
       "      <td>0.0</td>\n",
       "      <td>120.90</td>\n",
       "    </tr>\n",
       "  </tbody>\n",
       "</table>\n",
       "</div>"
      ],
      "text/plain": [
       "   CustomerID  Churn  Tenure PreferredLoginDevice  CityTier  WarehouseToHome  \\\n",
       "0       50001      1     4.0         Mobile Phone         3              6.0   \n",
       "1       50002      1     9.0         Mobile Phone         1              8.0   \n",
       "\n",
       "  PreferredPaymentMode  Gender  HourSpendOnApp  NumberOfDeviceRegistered  \\\n",
       "0           Debit Card  Female             3.0                         3   \n",
       "1                  UPI    Male             3.0                         4   \n",
       "\n",
       "     PreferedOrderCat  SatisfactionScore MaritalStatus  NumberOfAddress  \\\n",
       "0  Laptop & Accessory                  2        Single                9   \n",
       "1        Mobile Phone                  3        Single                7   \n",
       "\n",
       "   Complain  OrderAmountHikeFromlastYear  CouponUsed  OrderCount  \\\n",
       "0         1                         11.0         1.0         1.0   \n",
       "1         1                         15.0         0.0         1.0   \n",
       "\n",
       "   DaySinceLastOrder  CashbackAmount  \n",
       "0                5.0          159.93  \n",
       "1                0.0          120.90  "
      ]
     },
     "execution_count": 88,
     "metadata": {},
     "output_type": "execute_result"
    }
   ],
   "source": [
    "df_new.head(2)"
   ]
  },
  {
   "cell_type": "code",
   "execution_count": null,
   "id": "b7484ec3-3347-4942-8734-348f2c66c75e",
   "metadata": {},
   "outputs": [],
   "source": []
  },
  {
   "cell_type": "markdown",
   "id": "32bb3b40-5298-4f9f-b956-a49b893a42d0",
   "metadata": {},
   "source": [
    "#### Number of Device Registered"
   ]
  },
  {
   "cell_type": "code",
   "execution_count": 35,
   "id": "828af436-5be7-4532-b4fa-3a4a0a73a7f0",
   "metadata": {},
   "outputs": [
    {
     "data": {
      "text/html": [
       "<div>\n",
       "<style scoped>\n",
       "    .dataframe tbody tr th:only-of-type {\n",
       "        vertical-align: middle;\n",
       "    }\n",
       "\n",
       "    .dataframe tbody tr th {\n",
       "        vertical-align: top;\n",
       "    }\n",
       "\n",
       "    .dataframe thead th {\n",
       "        text-align: right;\n",
       "    }\n",
       "</style>\n",
       "<table border=\"1\" class=\"dataframe\">\n",
       "  <thead>\n",
       "    <tr style=\"text-align: right;\">\n",
       "      <th></th>\n",
       "      <th>NumberOfDeviceRegistered</th>\n",
       "      <th>Count</th>\n",
       "      <th>Percentage</th>\n",
       "    </tr>\n",
       "  </thead>\n",
       "  <tbody>\n",
       "    <tr>\n",
       "      <th>4</th>\n",
       "      <td>4</td>\n",
       "      <td>2245</td>\n",
       "      <td>41.96</td>\n",
       "    </tr>\n",
       "    <tr>\n",
       "      <th>3</th>\n",
       "      <td>3</td>\n",
       "      <td>1634</td>\n",
       "      <td>30.54</td>\n",
       "    </tr>\n",
       "    <tr>\n",
       "      <th>5</th>\n",
       "      <td>5</td>\n",
       "      <td>824</td>\n",
       "      <td>15.40</td>\n",
       "    </tr>\n",
       "    <tr>\n",
       "      <th>2</th>\n",
       "      <td>2</td>\n",
       "      <td>268</td>\n",
       "      <td>5.01</td>\n",
       "    </tr>\n",
       "    <tr>\n",
       "      <th>1</th>\n",
       "      <td>1</td>\n",
       "      <td>230</td>\n",
       "      <td>4.30</td>\n",
       "    </tr>\n",
       "    <tr>\n",
       "      <th>6</th>\n",
       "      <td>6</td>\n",
       "      <td>149</td>\n",
       "      <td>2.79</td>\n",
       "    </tr>\n",
       "  </tbody>\n",
       "</table>\n",
       "</div>"
      ],
      "text/plain": [
       "   NumberOfDeviceRegistered  Count  Percentage\n",
       "4                         4   2245       41.96\n",
       "3                         3   1634       30.54\n",
       "5                         5    824       15.40\n",
       "2                         2    268        5.01\n",
       "1                         1    230        4.30\n",
       "6                         6    149        2.79"
      ]
     },
     "execution_count": 35,
     "metadata": {},
     "output_type": "execute_result"
    },
    {
     "data": {
      "image/png": "[encoded data removed]",
      "text/plain": [
       "<Figure size 1224x432 with 2 Axes>"
      ]
     },
     "metadata": {
      "needs_background": "light"
     },
     "output_type": "display_data"
    }
   ],
   "source": [
    "analysis_cat('NumberOfDeviceRegistered',0.235)"
   ]
  },
  {
   "cell_type": "markdown",
   "id": "422bb566-4daf-4058-b83c-33332c9efdac",
   "metadata": {},
   "source": [
    "It seems that there is a pattern over there. The more devices registered, the higher the chance of churn\n",
    "- Mostly, **three** and **four** devices were registered by customers *( in total, about 72% of a whole data )*\n",
    "- **One** and **two** have similar both in churn probability and number of customers"
   ]
  },
  {
   "cell_type": "code",
   "execution_count": 36,
   "id": "3734ab61-8563-4d71-859a-e1922c91bb0c",
   "metadata": {},
   "outputs": [
    {
     "data": {
      "text/html": [
       "<div>\n",
       "<style scoped>\n",
       "    .dataframe tbody tr th:only-of-type {\n",
       "        vertical-align: middle;\n",
       "    }\n",
       "\n",
       "    .dataframe tbody tr th {\n",
       "        vertical-align: top;\n",
       "    }\n",
       "\n",
       "    .dataframe thead th {\n",
       "        text-align: right;\n",
       "    }\n",
       "</style>\n",
       "<table border=\"1\" class=\"dataframe\">\n",
       "  <thead>\n",
       "    <tr style=\"text-align: right;\">\n",
       "      <th></th>\n",
       "      <th>CustomerID</th>\n",
       "      <th>Churn</th>\n",
       "      <th>Tenure</th>\n",
       "      <th>PreferredLoginDevice</th>\n",
       "      <th>CityTier</th>\n",
       "      <th>WarehouseToHome</th>\n",
       "      <th>PreferredPaymentMode</th>\n",
       "      <th>Gender</th>\n",
       "      <th>HourSpendOnApp</th>\n",
       "      <th>NumberOfDeviceRegistered</th>\n",
       "      <th>PreferedOrderCat</th>\n",
       "      <th>SatisfactionScore</th>\n",
       "      <th>MaritalStatus</th>\n",
       "      <th>NumberOfAddress</th>\n",
       "      <th>Complain</th>\n",
       "      <th>OrderAmountHikeFromlastYear</th>\n",
       "      <th>CouponUsed</th>\n",
       "      <th>OrderCount</th>\n",
       "      <th>DaySinceLastOrder</th>\n",
       "      <th>CashbackAmount</th>\n",
       "    </tr>\n",
       "  </thead>\n",
       "  <tbody>\n",
       "    <tr>\n",
       "      <th>0</th>\n",
       "      <td>50001</td>\n",
       "      <td>1</td>\n",
       "      <td>4.0</td>\n",
       "      <td>Mobile Phone</td>\n",
       "      <td>3</td>\n",
       "      <td>6.0</td>\n",
       "      <td>Debit Card</td>\n",
       "      <td>Female</td>\n",
       "      <td>3.0</td>\n",
       "      <td>3</td>\n",
       "      <td>Laptop &amp; Accessory</td>\n",
       "      <td>2</td>\n",
       "      <td>Single</td>\n",
       "      <td>9</td>\n",
       "      <td>1</td>\n",
       "      <td>11.0</td>\n",
       "      <td>1.0</td>\n",
       "      <td>1.0</td>\n",
       "      <td>5.0</td>\n",
       "      <td>159.93</td>\n",
       "    </tr>\n",
       "    <tr>\n",
       "      <th>1</th>\n",
       "      <td>50002</td>\n",
       "      <td>1</td>\n",
       "      <td>9.0</td>\n",
       "      <td>Mobile Phone</td>\n",
       "      <td>1</td>\n",
       "      <td>8.0</td>\n",
       "      <td>UPI</td>\n",
       "      <td>Male</td>\n",
       "      <td>3.0</td>\n",
       "      <td>4</td>\n",
       "      <td>Mobile Phone</td>\n",
       "      <td>3</td>\n",
       "      <td>Single</td>\n",
       "      <td>7</td>\n",
       "      <td>1</td>\n",
       "      <td>15.0</td>\n",
       "      <td>0.0</td>\n",
       "      <td>1.0</td>\n",
       "      <td>0.0</td>\n",
       "      <td>120.90</td>\n",
       "    </tr>\n",
       "    <tr>\n",
       "      <th>2</th>\n",
       "      <td>50003</td>\n",
       "      <td>1</td>\n",
       "      <td>9.0</td>\n",
       "      <td>Mobile Phone</td>\n",
       "      <td>1</td>\n",
       "      <td>30.0</td>\n",
       "      <td>Debit Card</td>\n",
       "      <td>Male</td>\n",
       "      <td>2.0</td>\n",
       "      <td>4</td>\n",
       "      <td>Mobile Phone</td>\n",
       "      <td>3</td>\n",
       "      <td>Single</td>\n",
       "      <td>6</td>\n",
       "      <td>1</td>\n",
       "      <td>14.0</td>\n",
       "      <td>0.0</td>\n",
       "      <td>1.0</td>\n",
       "      <td>3.0</td>\n",
       "      <td>120.28</td>\n",
       "    </tr>\n",
       "    <tr>\n",
       "      <th>3</th>\n",
       "      <td>50004</td>\n",
       "      <td>1</td>\n",
       "      <td>0.0</td>\n",
       "      <td>Mobile Phone</td>\n",
       "      <td>3</td>\n",
       "      <td>15.0</td>\n",
       "      <td>Debit Card</td>\n",
       "      <td>Male</td>\n",
       "      <td>2.0</td>\n",
       "      <td>4</td>\n",
       "      <td>Laptop &amp; Accessory</td>\n",
       "      <td>5</td>\n",
       "      <td>Single</td>\n",
       "      <td>8</td>\n",
       "      <td>0</td>\n",
       "      <td>23.0</td>\n",
       "      <td>0.0</td>\n",
       "      <td>1.0</td>\n",
       "      <td>3.0</td>\n",
       "      <td>134.07</td>\n",
       "    </tr>\n",
       "    <tr>\n",
       "      <th>4</th>\n",
       "      <td>50005</td>\n",
       "      <td>1</td>\n",
       "      <td>0.0</td>\n",
       "      <td>Mobile Phone</td>\n",
       "      <td>1</td>\n",
       "      <td>12.0</td>\n",
       "      <td>Credit Card</td>\n",
       "      <td>Male</td>\n",
       "      <td>3.0</td>\n",
       "      <td>3</td>\n",
       "      <td>Mobile Phone</td>\n",
       "      <td>5</td>\n",
       "      <td>Single</td>\n",
       "      <td>3</td>\n",
       "      <td>0</td>\n",
       "      <td>11.0</td>\n",
       "      <td>1.0</td>\n",
       "      <td>1.0</td>\n",
       "      <td>3.0</td>\n",
       "      <td>129.60</td>\n",
       "    </tr>\n",
       "    <tr>\n",
       "      <th>...</th>\n",
       "      <td>...</td>\n",
       "      <td>...</td>\n",
       "      <td>...</td>\n",
       "      <td>...</td>\n",
       "      <td>...</td>\n",
       "      <td>...</td>\n",
       "      <td>...</td>\n",
       "      <td>...</td>\n",
       "      <td>...</td>\n",
       "      <td>...</td>\n",
       "      <td>...</td>\n",
       "      <td>...</td>\n",
       "      <td>...</td>\n",
       "      <td>...</td>\n",
       "      <td>...</td>\n",
       "      <td>...</td>\n",
       "      <td>...</td>\n",
       "      <td>...</td>\n",
       "      <td>...</td>\n",
       "      <td>...</td>\n",
       "    </tr>\n",
       "    <tr>\n",
       "      <th>5625</th>\n",
       "      <td>55626</td>\n",
       "      <td>0</td>\n",
       "      <td>10.0</td>\n",
       "      <td>Computer</td>\n",
       "      <td>1</td>\n",
       "      <td>30.0</td>\n",
       "      <td>Credit Card</td>\n",
       "      <td>Male</td>\n",
       "      <td>3.0</td>\n",
       "      <td>2</td>\n",
       "      <td>Laptop &amp; Accessory</td>\n",
       "      <td>1</td>\n",
       "      <td>Married</td>\n",
       "      <td>6</td>\n",
       "      <td>0</td>\n",
       "      <td>18.0</td>\n",
       "      <td>1.0</td>\n",
       "      <td>2.0</td>\n",
       "      <td>4.0</td>\n",
       "      <td>150.71</td>\n",
       "    </tr>\n",
       "    <tr>\n",
       "      <th>5626</th>\n",
       "      <td>55627</td>\n",
       "      <td>0</td>\n",
       "      <td>13.0</td>\n",
       "      <td>Mobile Phone</td>\n",
       "      <td>1</td>\n",
       "      <td>13.0</td>\n",
       "      <td>Credit Card</td>\n",
       "      <td>Male</td>\n",
       "      <td>3.0</td>\n",
       "      <td>5</td>\n",
       "      <td>Fashion</td>\n",
       "      <td>5</td>\n",
       "      <td>Married</td>\n",
       "      <td>6</td>\n",
       "      <td>0</td>\n",
       "      <td>16.0</td>\n",
       "      <td>1.0</td>\n",
       "      <td>2.0</td>\n",
       "      <td>3.0</td>\n",
       "      <td>224.91</td>\n",
       "    </tr>\n",
       "    <tr>\n",
       "      <th>5627</th>\n",
       "      <td>55628</td>\n",
       "      <td>0</td>\n",
       "      <td>1.0</td>\n",
       "      <td>Mobile Phone</td>\n",
       "      <td>1</td>\n",
       "      <td>11.0</td>\n",
       "      <td>Debit Card</td>\n",
       "      <td>Male</td>\n",
       "      <td>3.0</td>\n",
       "      <td>2</td>\n",
       "      <td>Laptop &amp; Accessory</td>\n",
       "      <td>4</td>\n",
       "      <td>Married</td>\n",
       "      <td>3</td>\n",
       "      <td>1</td>\n",
       "      <td>21.0</td>\n",
       "      <td>1.0</td>\n",
       "      <td>2.0</td>\n",
       "      <td>4.0</td>\n",
       "      <td>186.42</td>\n",
       "    </tr>\n",
       "    <tr>\n",
       "      <th>5628</th>\n",
       "      <td>55629</td>\n",
       "      <td>0</td>\n",
       "      <td>23.0</td>\n",
       "      <td>Computer</td>\n",
       "      <td>3</td>\n",
       "      <td>9.0</td>\n",
       "      <td>Credit Card</td>\n",
       "      <td>Male</td>\n",
       "      <td>4.0</td>\n",
       "      <td>5</td>\n",
       "      <td>Laptop &amp; Accessory</td>\n",
       "      <td>4</td>\n",
       "      <td>Married</td>\n",
       "      <td>4</td>\n",
       "      <td>0</td>\n",
       "      <td>15.0</td>\n",
       "      <td>2.0</td>\n",
       "      <td>2.0</td>\n",
       "      <td>9.0</td>\n",
       "      <td>178.90</td>\n",
       "    </tr>\n",
       "    <tr>\n",
       "      <th>5629</th>\n",
       "      <td>55630</td>\n",
       "      <td>0</td>\n",
       "      <td>8.0</td>\n",
       "      <td>Mobile Phone</td>\n",
       "      <td>1</td>\n",
       "      <td>15.0</td>\n",
       "      <td>Credit Card</td>\n",
       "      <td>Male</td>\n",
       "      <td>3.0</td>\n",
       "      <td>2</td>\n",
       "      <td>Laptop &amp; Accessory</td>\n",
       "      <td>3</td>\n",
       "      <td>Married</td>\n",
       "      <td>4</td>\n",
       "      <td>0</td>\n",
       "      <td>13.0</td>\n",
       "      <td>2.0</td>\n",
       "      <td>2.0</td>\n",
       "      <td>3.0</td>\n",
       "      <td>169.04</td>\n",
       "    </tr>\n",
       "  </tbody>\n",
       "</table>\n",
       "<p>5350 rows × 20 columns</p>\n",
       "</div>"
      ],
      "text/plain": [
       "      CustomerID  Churn  Tenure PreferredLoginDevice  CityTier  \\\n",
       "0          50001      1     4.0         Mobile Phone         3   \n",
       "1          50002      1     9.0         Mobile Phone         1   \n",
       "2          50003      1     9.0         Mobile Phone         1   \n",
       "3          50004      1     0.0         Mobile Phone         3   \n",
       "4          50005      1     0.0         Mobile Phone         1   \n",
       "...          ...    ...     ...                  ...       ...   \n",
       "5625       55626      0    10.0             Computer         1   \n",
       "5626       55627      0    13.0         Mobile Phone         1   \n",
       "5627       55628      0     1.0         Mobile Phone         1   \n",
       "5628       55629      0    23.0             Computer         3   \n",
       "5629       55630      0     8.0         Mobile Phone         1   \n",
       "\n",
       "      WarehouseToHome PreferredPaymentMode  Gender  HourSpendOnApp  \\\n",
       "0                 6.0           Debit Card  Female             3.0   \n",
       "1                 8.0                  UPI    Male             3.0   \n",
       "2                30.0           Debit Card    Male             2.0   \n",
       "3                15.0           Debit Card    Male             2.0   \n",
       "4                12.0          Credit Card    Male             3.0   \n",
       "...               ...                  ...     ...             ...   \n",
       "5625             30.0          Credit Card    Male             3.0   \n",
       "5626             13.0          Credit Card    Male             3.0   \n",
       "5627             11.0           Debit Card    Male             3.0   \n",
       "5628              9.0          Credit Card    Male             4.0   \n",
       "5629             15.0          Credit Card    Male             3.0   \n",
       "\n",
       "      NumberOfDeviceRegistered    PreferedOrderCat  SatisfactionScore  \\\n",
       "0                            3  Laptop & Accessory                  2   \n",
       "1                            4        Mobile Phone                  3   \n",
       "2                            4        Mobile Phone                  3   \n",
       "3                            4  Laptop & Accessory                  5   \n",
       "4                            3        Mobile Phone                  5   \n",
       "...                        ...                 ...                ...   \n",
       "5625                         2  Laptop & Accessory                  1   \n",
       "5626                         5             Fashion                  5   \n",
       "5627                         2  Laptop & Accessory                  4   \n",
       "5628                         5  Laptop & Accessory                  4   \n",
       "5629                         2  Laptop & Accessory                  3   \n",
       "\n",
       "     MaritalStatus  NumberOfAddress  Complain  OrderAmountHikeFromlastYear  \\\n",
       "0           Single                9         1                         11.0   \n",
       "1           Single                7         1                         15.0   \n",
       "2           Single                6         1                         14.0   \n",
       "3           Single                8         0                         23.0   \n",
       "4           Single                3         0                         11.0   \n",
       "...            ...              ...       ...                          ...   \n",
       "5625       Married                6         0                         18.0   \n",
       "5626       Married                6         0                         16.0   \n",
       "5627       Married                3         1                         21.0   \n",
       "5628       Married                4         0                         15.0   \n",
       "5629       Married                4         0                         13.0   \n",
       "\n",
       "      CouponUsed  OrderCount  DaySinceLastOrder  CashbackAmount  \n",
       "0            1.0         1.0                5.0          159.93  \n",
       "1            0.0         1.0                0.0          120.90  \n",
       "2            0.0         1.0                3.0          120.28  \n",
       "3            0.0         1.0                3.0          134.07  \n",
       "4            1.0         1.0                3.0          129.60  \n",
       "...          ...         ...                ...             ...  \n",
       "5625         1.0         2.0                4.0          150.71  \n",
       "5626         1.0         2.0                3.0          224.91  \n",
       "5627         1.0         2.0                4.0          186.42  \n",
       "5628         2.0         2.0                9.0          178.90  \n",
       "5629         2.0         2.0                3.0          169.04  \n",
       "\n",
       "[5350 rows x 20 columns]"
      ]
     },
     "execution_count": 36,
     "metadata": {},
     "output_type": "execute_result"
    }
   ],
   "source": [
    "df_new"
   ]
  },
  {
   "cell_type": "code",
   "execution_count": null,
   "id": "dda87b8c-ee34-4ab8-999e-587442b5e747",
   "metadata": {},
   "outputs": [],
   "source": []
  }
 ],
 "metadata": {
  "kernelspec": {
   "display_name": "Python 3 (ipykernel)",
   "language": "python",
   "name": "python3"
  },
  "language_info": {
   "codemirror_mode": {
    "name": "ipython",
    "version": 3
   },
   "file_extension": ".py",
   "mimetype": "text/x-python",
   "name": "python",
   "nbconvert_exporter": "python",
   "pygments_lexer": "ipython3",
   "version": "3.9.6"
  }
 },
 "nbformat": 4,
 "nbformat_minor": 5
}
