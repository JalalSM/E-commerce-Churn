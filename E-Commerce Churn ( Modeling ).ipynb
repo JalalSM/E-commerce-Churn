{
 "cells": [
  {
   "cell_type": "markdown",
   "id": "53ddb1fb-34f9-4476-ae2f-a3a72faf2141",
   "metadata": {},
   "source": [
    "# Modeling"
   ]
  },
  {
   "cell_type": "code",
   "execution_count": 8,
   "id": "7b4a4a1b-7c83-474f-a8f3-c51550d7dec1",
   "metadata": {},
   "outputs": [],
   "source": [
    "import pandas as pd\n",
    "import numpy as np\n",
    "import matplotlib.pyplot as plt\n",
    "import seaborn as sns\n",
    "import warnings\n",
    "from scipy import stats\n",
    "from matplotlib.pyplot import rcParams\n",
    "warnings.filterwarnings('ignore')"
   ]
  },
  {
   "cell_type": "code",
   "execution_count": 9,
   "id": "38401656-c47b-45be-bd64-26aef6fe9cad",
   "metadata": {},
   "outputs": [],
   "source": [
    "from sklearn.model_selection import train_test_split, RandomizedSearchCV, GridSearchCV, cross_val_score, cross_validate\n",
    "from sklearn.metrics import f1_score, accuracy_score, precision_score, classification_report, confusion_matrix, mean_absolute_error, recall_score\n",
    "from sklearn.metrics import roc_auc_score, precision_recall_curve, roc_curve, PrecisionRecallDisplay, RocCurveDisplay\n",
    "from sklearn.linear_model import LogisticRegression\n",
    "from imblearn.over_sampling import SMOTE\n",
    "from xgboost import XGBClassifier\n",
    "from lightgbm import LGBMClassifier\n",
    "from catboost import CatBoostClassifier"
   ]
  },
  {
   "cell_type": "code",
   "execution_count": 10,
   "id": "41830b1f-ea68-45f9-bc23-672d08b9c92a",
   "metadata": {},
   "outputs": [],
   "source": [
    "rcParams['axes.grid']         = True\n",
    "rcParams['grid.alpha']        = 0.3\n",
    "rcParams['axes.spines.right'] = False\n",
    "rcParams['axes.spines.left']  = False\n",
    "rcParams['axes.spines.top']   = False\n",
    "rcParams['figure.figsize']    = (17,5)"
   ]
  },
  {
   "cell_type": "code",
   "execution_count": 11,
   "id": "54ebe29c-8441-45f9-90a9-367b8fa019cd",
   "metadata": {},
   "outputs": [],
   "source": [
    "pd.set_option('display.max_columns',100)\n",
    "plt.rc('axes',axisbelow=True)"
   ]
  },
  {
   "cell_type": "code",
   "execution_count": 12,
   "id": "261b4b01-dca2-4d4d-915f-a7b1acbba55a",
   "metadata": {},
   "outputs": [],
   "source": [
    "df1 = pd.read_csv('D:Data/UCI/Churn/Cleaned_customer_churn.csv')"
   ]
  },
  {
   "cell_type": "code",
   "execution_count": 13,
   "id": "0f2625ed-f37d-4087-a010-97a679cd96f9",
   "metadata": {},
   "outputs": [],
   "source": [
    "X = df1.drop('Churn',axis=1)\n",
    "y = df1.Churn\n",
    "\n",
    "X_train, X_test, y_train, y_test = train_test_split(X, y, random_state=0, stratify=y, test_size=0.2)"
   ]
  },
  {
   "cell_type": "markdown",
   "id": "1b2a4353-037b-4854-9dea-73ec5b88a6e6",
   "metadata": {},
   "source": [
    "Since this data is imbalance, we would do over sampling method"
   ]
  },
  {
   "cell_type": "code",
   "execution_count": 14,
   "id": "bbf4a27c-ec7f-42b1-8186-845da65b2a07",
   "metadata": {},
   "outputs": [
    {
     "data": {
      "text/plain": [
       "0.0    3550\n",
       "1.0    3550\n",
       "Name: Churn, dtype: int64"
      ]
     },
     "execution_count": 14,
     "metadata": {},
     "output_type": "execute_result"
    }
   ],
   "source": [
    "X_train_new, y_train_new = SMOTE().fit_resample(X_train, y_train)\n",
    "y_train_new.value_counts()"
   ]
  },
  {
   "cell_type": "code",
   "execution_count": 15,
   "id": "ffc86473-f913-400d-a9ee-ed51e37cace6",
   "metadata": {},
   "outputs": [],
   "source": [
    "models = []\n",
    "models.append(('LR',LogisticRegression()))\n",
    "models.append(('XGB',XGBClassifier()))\n",
    "models.append(('LGBM',LGBMClassifier()))\n",
    "models.append(('CatBoost',CatBoostClassifier(verbose=False)))"
   ]
  },
  {
   "cell_type": "code",
   "execution_count": 16,
   "id": "b25360be-56c7-4364-8218-60ef1630a865",
   "metadata": {},
   "outputs": [],
   "source": [
    "results_boxplot = []\n",
    "names = []\n",
    "results_mean = []\n",
    "results_std = []\n",
    "\n",
    "for name, model in models:\n",
    "    cv_results = cross_validate(model, X, y, cv=5,scoring=('accuracy','f1','precision','recall'),n_jobs=-1)\n",
    "    results_boxplot.append(cv_results)\n",
    "    # results_mean.append(cv_results.mean())\n",
    "    # results_std.append(cv_results.std())\n",
    "    # names.append(name)"
   ]
  },
  {
   "cell_type": "code",
   "execution_count": 17,
   "id": "73750239-dbb6-44d5-ac6b-a8561f4ab0d2",
   "metadata": {},
   "outputs": [
    {
     "data": {
      "text/html": [
       "<div>\n",
       "<style scoped>\n",
       "    .dataframe tbody tr th:only-of-type {\n",
       "        vertical-align: middle;\n",
       "    }\n",
       "\n",
       "    .dataframe tbody tr th {\n",
       "        vertical-align: top;\n",
       "    }\n",
       "\n",
       "    .dataframe thead th {\n",
       "        text-align: right;\n",
       "    }\n",
       "</style>\n",
       "<table border=\"1\" class=\"dataframe\">\n",
       "  <thead>\n",
       "    <tr style=\"text-align: right;\">\n",
       "      <th></th>\n",
       "      <th>fit_time</th>\n",
       "      <th>score_time</th>\n",
       "      <th>test_accuracy</th>\n",
       "      <th>test_f1</th>\n",
       "      <th>test_precision</th>\n",
       "      <th>test_recall</th>\n",
       "    </tr>\n",
       "  </thead>\n",
       "  <tbody>\n",
       "    <tr>\n",
       "      <th>LR</th>\n",
       "      <td>0.194815</td>\n",
       "      <td>0.029803</td>\n",
       "      <td>0.896822</td>\n",
       "      <td>0.636343</td>\n",
       "      <td>0.796322</td>\n",
       "      <td>0.531904</td>\n",
       "    </tr>\n",
       "    <tr>\n",
       "      <th>XGB</th>\n",
       "      <td>1.859379</td>\n",
       "      <td>0.038804</td>\n",
       "      <td>0.992710</td>\n",
       "      <td>0.978621</td>\n",
       "      <td>0.979346</td>\n",
       "      <td>0.978058</td>\n",
       "    </tr>\n",
       "    <tr>\n",
       "      <th>LGBM</th>\n",
       "      <td>0.367271</td>\n",
       "      <td>0.026802</td>\n",
       "      <td>0.986542</td>\n",
       "      <td>0.959816</td>\n",
       "      <td>0.976240</td>\n",
       "      <td>0.944052</td>\n",
       "    </tr>\n",
       "    <tr>\n",
       "      <th>CatBoost</th>\n",
       "      <td>6.208526</td>\n",
       "      <td>0.028402</td>\n",
       "      <td>0.976075</td>\n",
       "      <td>0.926414</td>\n",
       "      <td>0.972676</td>\n",
       "      <td>0.884826</td>\n",
       "    </tr>\n",
       "  </tbody>\n",
       "</table>\n",
       "</div>"
      ],
      "text/plain": [
       "          fit_time  score_time  test_accuracy   test_f1  test_precision  \\\n",
       "LR        0.194815    0.029803       0.896822  0.636343        0.796322   \n",
       "XGB       1.859379    0.038804       0.992710  0.978621        0.979346   \n",
       "LGBM      0.367271    0.026802       0.986542  0.959816        0.976240   \n",
       "CatBoost  6.208526    0.028402       0.976075  0.926414        0.972676   \n",
       "\n",
       "          test_recall  \n",
       "LR           0.531904  \n",
       "XGB          0.978058  \n",
       "LGBM         0.944052  \n",
       "CatBoost     0.884826  "
      ]
     },
     "execution_count": 17,
     "metadata": {},
     "output_type": "execute_result"
    }
   ],
   "source": [
    "pd.DataFrame(results_boxplot, index=[i for i,j in models]).applymap(np.mean)"
   ]
  },
  {
   "cell_type": "markdown",
   "id": "902a80b9-418a-496b-9643-d6bebc066928",
   "metadata": {},
   "source": [
    "XGBoost looks the best model with the highest all metrics"
   ]
  },
  {
   "cell_type": "markdown",
   "id": "74516e11-dd5a-480c-a2f8-16186b485fa9",
   "metadata": {},
   "source": [
    "**Difference error between train and test**"
   ]
  },
  {
   "cell_type": "code",
   "execution_count": 18,
   "id": "830dc9b4-a73d-4e53-8065-265bc1f6e9d3",
   "metadata": {},
   "outputs": [
    {
     "name": "stdout",
     "output_type": "stream",
     "text": [
      "[21:02:24] WARNING: C:/Users/Administrator/workspace/xgboost-win64_release_1.5.0/src/learner.cc:1115: Starting in XGBoost 1.3.0, the default evaluation metric used with the objective 'binary:logistic' was changed from 'error' to 'logloss'. Explicitly set eval_metric if you'd like to restore the old behavior.\n"
     ]
    }
   ],
   "source": [
    "train_score = []\n",
    "test_score  = []\n",
    "for name, model in models:\n",
    "    mod = model.fit(X_train, y_train)\n",
    "    \n",
    "    train_score.append(mean_absolute_error(y_train, mod.predict(X_train)))\n",
    "    test_score.append(mean_absolute_error(y_test, mod.predict(X_test)))"
   ]
  },
  {
   "cell_type": "code",
   "execution_count": 19,
   "id": "090c7836-fbce-4866-acf9-2f51d4ccdd5e",
   "metadata": {},
   "outputs": [
    {
     "data": {
      "text/html": [
       "<div>\n",
       "<style scoped>\n",
       "    .dataframe tbody tr th:only-of-type {\n",
       "        vertical-align: middle;\n",
       "    }\n",
       "\n",
       "    .dataframe tbody tr th {\n",
       "        vertical-align: top;\n",
       "    }\n",
       "\n",
       "    .dataframe thead th {\n",
       "        text-align: right;\n",
       "    }\n",
       "</style>\n",
       "<table border=\"1\" class=\"dataframe\">\n",
       "  <thead>\n",
       "    <tr style=\"text-align: right;\">\n",
       "      <th></th>\n",
       "      <th>train_score</th>\n",
       "      <th>test_score</th>\n",
       "      <th>difference</th>\n",
       "    </tr>\n",
       "  </thead>\n",
       "  <tbody>\n",
       "    <tr>\n",
       "      <th>LR</th>\n",
       "      <td>0.107477</td>\n",
       "      <td>0.090654</td>\n",
       "      <td>0.016822</td>\n",
       "    </tr>\n",
       "    <tr>\n",
       "      <th>XGB</th>\n",
       "      <td>0.000000</td>\n",
       "      <td>0.022430</td>\n",
       "      <td>-0.022430</td>\n",
       "    </tr>\n",
       "    <tr>\n",
       "      <th>LGBM</th>\n",
       "      <td>0.002804</td>\n",
       "      <td>0.026168</td>\n",
       "      <td>-0.023364</td>\n",
       "    </tr>\n",
       "    <tr>\n",
       "      <th>CatBoost</th>\n",
       "      <td>0.008411</td>\n",
       "      <td>0.041121</td>\n",
       "      <td>-0.032710</td>\n",
       "    </tr>\n",
       "  </tbody>\n",
       "</table>\n",
       "</div>"
      ],
      "text/plain": [
       "          train_score  test_score  difference\n",
       "LR           0.107477    0.090654    0.016822\n",
       "XGB          0.000000    0.022430   -0.022430\n",
       "LGBM         0.002804    0.026168   -0.023364\n",
       "CatBoost     0.008411    0.041121   -0.032710"
      ]
     },
     "execution_count": 19,
     "metadata": {},
     "output_type": "execute_result"
    }
   ],
   "source": [
    "score = pd.DataFrame({'train_score':train_score,\n",
    "              'test_score' :test_score\n",
    "             },index=[name for name, model in models])\n",
    "score['difference'] = score.train_score- score.test_score\n",
    "score"
   ]
  },
  {
   "cell_type": "markdown",
   "id": "c86cfd3d-fd86-42e5-8f6b-0c8bbe81d17d",
   "metadata": {},
   "source": [
    "Logistic Regression has the smallest difference between train and test error. However, even though XGBoost in the 2nd, it has the smallest error both in train and test set"
   ]
  },
  {
   "cell_type": "markdown",
   "id": "0f086f96-505f-413b-b8f5-32de989b7f98",
   "metadata": {},
   "source": [
    "Let's do hyperparameter tuning for XGB and LGBM"
   ]
  },
  {
   "cell_type": "code",
   "execution_count": 20,
   "id": "3e661b05-f823-4e03-ab83-d70394a97c1a",
   "metadata": {},
   "outputs": [],
   "source": [
    "params  = {'learning_rate':[x for x in np.arange(0.05,0.5,0.05)],\n",
    "          'n_estimators' :[j for j in range(100,1000)],\n",
    "          'max_depth':[a for a in range(1,8)],\n",
    "          'min_child_weight':[b for b in range(1,9)],    \n",
    "          'gamma': range(1, 9),\n",
    "          \"reg_alpha\": [m for m in np.arange(0.1, 0.7,0.09)]\n",
    "         }\n",
    "\n",
    "gparams = {'learning_rate':[x for x in np.arange(0.05,0.5,0.05)],\n",
    "          'n_estimators' :[j for j in range(100,1000)],\n",
    "          'max_depth':[a for a in range(1,8)],\n",
    "          'min_child_weight':[b for b in range(1,9)],    \n",
    "          'gamma': np.arange(0.1, 1.1),\n",
    "          \"reg_alpha\": [m for m in np.arange(0.1, 0.7,0.09)],\n",
    "           'booster':['gbtree','gblinear','dart']\n",
    "           }"
   ]
  },
  {
   "cell_type": "code",
   "execution_count": 21,
   "id": "df78324f-aaa4-4840-9b96-0cd9e2085037",
   "metadata": {},
   "outputs": [
    {
     "name": "stdout",
     "output_type": "stream",
     "text": [
      "[21:02:34] WARNING: C:/Users/Administrator/workspace/xgboost-win64_release_1.5.0/src/learner.cc:1115: Starting in XGBoost 1.3.0, the default evaluation metric used with the objective 'binary:logistic' was changed from 'error' to 'logloss'. Explicitly set eval_metric if you'd like to restore the old behavior.\n",
      "[21:07:27] WARNING: C:/Users/Administrator/workspace/xgboost-win64_release_1.5.0/src/learner.cc:1115: Starting in XGBoost 1.3.0, the default evaluation metric used with the objective 'binary:logistic' was changed from 'error' to 'logloss'. Explicitly set eval_metric if you'd like to restore the old behavior.\n"
     ]
    },
    {
     "data": {
      "text/plain": [
       "RandomizedSearchCV(cv=5, estimator=LGBMClassifier(), n_jobs=-1,\n",
       "                   param_distributions={'booster': ['gbtree', 'gblinear',\n",
       "                                                    'dart'],\n",
       "                                        'gamma': array([0.1]),\n",
       "                                        'learning_rate': [0.05, 0.1,\n",
       "                                                          0.15000000000000002,\n",
       "                                                          0.2, 0.25, 0.3,\n",
       "                                                          0.35000000000000003,\n",
       "                                                          0.4, 0.45],\n",
       "                                        'max_depth': [1, 2, 3, 4, 5, 6, 7],\n",
       "                                        'min_child_weight': [1, 2, 3, 4, 5, 6,\n",
       "                                                             7, 8],\n",
       "                                        'n_estimators': [100, 101, 102, 103,\n",
       "                                                         104, 105, 106, 107,\n",
       "                                                         108, 109, 110, 111,\n",
       "                                                         112, 113, 114, 115,\n",
       "                                                         116, 117, 118, 119,\n",
       "                                                         120, 121, 122, 123,\n",
       "                                                         124, 125, 126, 127,\n",
       "                                                         128, 129, ...],\n",
       "                                        'reg_alpha': [0.1, 0.19, 0.28, 0.37,\n",
       "                                                      0.45999999999999996,\n",
       "                                                      0.5499999999999999,\n",
       "                                                      0.64]},\n",
       "                   random_state=100, scoring='accuracy', verbose=False)"
      ]
     },
     "execution_count": 21,
     "metadata": {},
     "output_type": "execute_result"
    }
   ],
   "source": [
    "xgb = XGBClassifier()\n",
    "lgb = LGBMClassifier()\n",
    "\n",
    "xgb_tuned = RandomizedSearchCV(xgb, params, cv=5,verbose=False,n_jobs=-1,random_state=100,scoring='accuracy')\n",
    "lgb_tuned = RandomizedSearchCV(lgb, gparams, cv=5,verbose=False,n_jobs=-1,random_state=100,scoring='accuracy')\n",
    "\n",
    "xgb.fit(X_train_new,y_train_new)\n",
    "lgb.fit(X_train_new,y_train_new)\n",
    "xgb_tuned.fit(X_train_new,y_train_new)\n",
    "lgb_tuned.fit(X_train_new,y_train_new)"
   ]
  },
  {
   "cell_type": "code",
   "execution_count": 22,
   "id": "406f232d-a474-432a-af70-e36f2d87ceab",
   "metadata": {},
   "outputs": [
    {
     "data": {
      "text/html": [
       "<div>\n",
       "<style scoped>\n",
       "    .dataframe tbody tr th:only-of-type {\n",
       "        vertical-align: middle;\n",
       "    }\n",
       "\n",
       "    .dataframe tbody tr th {\n",
       "        vertical-align: top;\n",
       "    }\n",
       "\n",
       "    .dataframe thead th {\n",
       "        text-align: right;\n",
       "    }\n",
       "</style>\n",
       "<table border=\"1\" class=\"dataframe\">\n",
       "  <thead>\n",
       "    <tr style=\"text-align: right;\">\n",
       "      <th></th>\n",
       "      <th>f1</th>\n",
       "      <th>precision</th>\n",
       "      <th>recall</th>\n",
       "      <th>accuracy</th>\n",
       "    </tr>\n",
       "  </thead>\n",
       "  <tbody>\n",
       "    <tr>\n",
       "      <th>LGBM Tuned</th>\n",
       "      <td>0.938889</td>\n",
       "      <td>0.949438</td>\n",
       "      <td>0.928571</td>\n",
       "      <td>0.979439</td>\n",
       "    </tr>\n",
       "    <tr>\n",
       "      <th>XGB</th>\n",
       "      <td>0.924791</td>\n",
       "      <td>0.937853</td>\n",
       "      <td>0.912088</td>\n",
       "      <td>0.974766</td>\n",
       "    </tr>\n",
       "    <tr>\n",
       "      <th>LGBM</th>\n",
       "      <td>0.879552</td>\n",
       "      <td>0.897143</td>\n",
       "      <td>0.862637</td>\n",
       "      <td>0.959813</td>\n",
       "    </tr>\n",
       "    <tr>\n",
       "      <th>XGB Tuned</th>\n",
       "      <td>0.870787</td>\n",
       "      <td>0.890805</td>\n",
       "      <td>0.851648</td>\n",
       "      <td>0.957009</td>\n",
       "    </tr>\n",
       "  </tbody>\n",
       "</table>\n",
       "</div>"
      ],
      "text/plain": [
       "                  f1  precision    recall  accuracy\n",
       "LGBM Tuned  0.938889   0.949438  0.928571  0.979439\n",
       "XGB         0.924791   0.937853  0.912088  0.974766\n",
       "LGBM        0.879552   0.897143  0.862637  0.959813\n",
       "XGB Tuned   0.870787   0.890805  0.851648  0.957009"
      ]
     },
     "execution_count": 22,
     "metadata": {},
     "output_type": "execute_result"
    }
   ],
   "source": [
    "models_new  = [xgb, lgb, xgb_tuned, lgb_tuned]\n",
    "f1score     = []\n",
    "accuracy    = []\n",
    "recall      = []\n",
    "precision   = []\n",
    "\n",
    "for model in models_new:\n",
    "    f1score.append(f1_score(y_test, model.predict(X_test)))\n",
    "    accuracy.append(accuracy_score(y_test,model.predict(X_test)))\n",
    "    recall.append(recall_score(y_test,model.predict(X_test)))\n",
    "    precision.append(precision_score(y_test,model.predict(X_test)))\n",
    "    \n",
    "pd.DataFrame({'f1':f1score,\n",
    "              'precision':precision,\n",
    "              'recall':recall,\n",
    "              'accuracy':accuracy\n",
    "             },index=['XGB','LGBM','XGB Tuned','LGBM Tuned']).sort_values('f1',ascending=False)"
   ]
  },
  {
   "cell_type": "markdown",
   "id": "02d246bf-6eb6-458d-afa5-306cbb29cca9",
   "metadata": {},
   "source": [
    "Only LGBM has a better result after doing hyperparameter tuning. XBG baseline is better than its tuned. Thus, we'll use LGBM tuned"
   ]
  },
  {
   "cell_type": "markdown",
   "id": "e0b2d009-9cdf-40f0-8051-2b24de95fa81",
   "metadata": {},
   "source": [
    "### Precision recall and ROC Curve"
   ]
  },
  {
   "cell_type": "code",
   "execution_count": 23,
   "id": "8f03bfb4-bdc5-4d88-8ee2-97f50085934d",
   "metadata": {},
   "outputs": [],
   "source": [
    "y_pred = lgb_tuned.predict_proba(X_test)[:,-1]\n",
    "prec, recall, _ = precision_recall_curve(y_test, y_pred, pos_label=lgb_tuned.classes_[1])\n",
    "pr_display = PrecisionRecallDisplay(prec, recall)"
   ]
  },
  {
   "cell_type": "code",
   "execution_count": 24,
   "id": "9573df7e-dba6-4ea9-8b95-85f31202b3e0",
   "metadata": {},
   "outputs": [],
   "source": [
    "auc_score   = roc_auc_score(y_test, y_pred)\n",
    "fpr, tpr, _ = roc_curve(y_test, y_pred, pos_label=lgb_tuned.classes_[1])\n",
    "roc_display = RocCurveDisplay(fpr=fpr, tpr=tpr)"
   ]
  },
  {
   "cell_type": "code",
   "execution_count": 25,
   "id": "d56bbd34-de6a-4f33-8e84-c9871e820bfb",
   "metadata": {},
   "outputs": [
    {
     "name": "stdout",
     "output_type": "stream",
     "text": [
      "ROC AUC score: 0.9887944262944263\n"
     ]
    },
    {
     "data": {
      "image/png": "[encoded data removed]",
      "text/plain": [
       "<Figure size 1080x360 with 2 Axes>"
      ]
     },
     "metadata": {
      "needs_background": "light"
     },
     "output_type": "display_data"
    }
   ],
   "source": [
    "print('ROC AUC score: {}'.format(auc_score))\n",
    "\n",
    "fig, ax = plt.subplots(1, 2, figsize= (15,5))\n",
    "\n",
    "pr_display.plot(ax[0])\n",
    "roc_display.plot(ax[1])\n",
    "\n",
    "ax[0].set_title('Precision Recall Curve',size=15, fontweight=550)\n",
    "ax[1].set_title('ROC AUC Curve',size=15, fontweight=550)\n",
    "\n",
    "plt.show()"
   ]
  },
  {
   "cell_type": "markdown",
   "id": "9643c9d3-9ade-46a5-912b-8b3c73932500",
   "metadata": {},
   "source": [
    "### Feature Importance"
   ]
  },
  {
   "cell_type": "code",
   "execution_count": 26,
   "id": "d7e5ede0-7c5a-4f3d-9e5b-2e0713bfe5fd",
   "metadata": {},
   "outputs": [],
   "source": [
    "lgb_tuned = LGBMClassifier(**lgb_tuned.best_params_)"
   ]
  },
  {
   "cell_type": "code",
   "execution_count": 27,
   "id": "6a358e71-cb9e-489c-94c2-a29f08e69c26",
   "metadata": {},
   "outputs": [
    {
     "name": "stdout",
     "output_type": "stream",
     "text": [
      "[LightGBM] [Warning] Unknown parameter: gamma\n",
      "[LightGBM] [Warning] Unknown parameter: booster\n"
     ]
    },
    {
     "data": {
      "text/plain": [
       "LGBMClassifier(booster='dart', gamma=0.1, max_depth=7, min_child_weight=2,\n",
       "               n_estimators=971, reg_alpha=0.19)"
      ]
     },
     "execution_count": 27,
     "metadata": {},
     "output_type": "execute_result"
    }
   ],
   "source": [
    "lgb_tuned.fit(X_train_new, y_train_new)"
   ]
  },
  {
   "cell_type": "code",
   "execution_count": 28,
   "id": "6094dd7b-bb6b-49b1-a532-b8aa40a20d21",
   "metadata": {},
   "outputs": [
    {
     "data": {
      "image/png": "[encoded data removed]",
      "text/plain": [
       "<Figure size 864x720 with 1 Axes>"
      ]
     },
     "metadata": {
      "needs_background": "light"
     },
     "output_type": "display_data"
    }
   ],
   "source": [
    "plt.figure(figsize=(12,10))\n",
    "sns.barplot('weight', 'feature', data=pd.DataFrame({'feature':X_train.columns,'weight':lgb_tuned.feature_importances_}).sort_values('weight',ascending=False),color='tab:blue')\n",
    "plt.ylabel('')\n",
    "plt.show()"
   ]
  },
  {
   "cell_type": "markdown",
   "id": "74ec7665-57d6-469f-a441-2821a5945b2b",
   "metadata": {},
   "source": [
    "### Threshold Adjustment"
   ]
  },
  {
   "cell_type": "code",
   "execution_count": null,
   "id": "f7bb2da0-a719-4b5b-b4c4-08276a443642",
   "metadata": {},
   "outputs": [],
   "source": []
  },
  {
   "cell_type": "code",
   "execution_count": null,
   "id": "d1402ca6-bbd2-4dd9-a2f6-c8603a2a6aaa",
   "metadata": {},
   "outputs": [],
   "source": []
  },
  {
   "cell_type": "code",
   "execution_count": null,
   "id": "b6f94232-fda0-4399-a8f8-5da23283ad14",
   "metadata": {},
   "outputs": [],
   "source": []
  }
 ],
 "metadata": {
  "kernelspec": {
   "display_name": "Python 3 (ipykernel)",
   "language": "python",
   "name": "python3"
  },
  "language_info": {
   "codemirror_mode": {
    "name": "ipython",
    "version": 3
   },
   "file_extension": ".py",
   "mimetype": "text/x-python",
   "name": "python",
   "nbconvert_exporter": "python",
   "pygments_lexer": "ipython3",
   "version": "3.9.6"
  }
 },
 "nbformat": 4,
 "nbformat_minor": 5
}
