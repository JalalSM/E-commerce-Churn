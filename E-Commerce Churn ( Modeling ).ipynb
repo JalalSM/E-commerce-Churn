{
 "cells": [
  {
   "cell_type": "markdown",
   "id": "d8ea8f36-167a-4841-afb1-f205e70d75fe",
   "metadata": {},
   "source": [
    "# Modeling"
   ]
  },
  {
   "cell_type": "markdown",
   "id": "2f3d6c9d-abdf-4793-a3cb-d4e718483e36",
   "metadata": {},
   "source": [
    "Hi! Welcome again"
   ]
  },
  {
   "cell_type": "markdown",
   "id": "2df1a181-cdfd-4471-81c6-9c1985877300",
   "metadata": {},
   "source": [
    "There are four models would be used for our cleaned data:\n",
    "- Logistic Regression\n",
    "- XGBoost Classifier\n",
    "- LightGBM Classifier\n",
    "- CatBoost Classifier"
   ]
  },
  {
   "cell_type": "markdown",
   "id": "0744bde7-a7ab-4c82-b6c3-2e083051b244",
   "metadata": {},
   "source": [
    "From the models above, only XGBoost and LightGBM will be done Hyperparameter Tuning with RandomizedSearchCV from scikit-learn library"
   ]
  },
  {
   "attachments": {
    "5b98d244-09f6-45c4-9656-325fb2899593.png": {
     "image/png": "[encoded data removed]"
    }
   },
   "cell_type": "markdown",
   "id": "c8dc2d4a-77d1-4039-872f-f61c13875417",
   "metadata": {},
   "source": [
    "# Executive Summary\n",
    "\n",
    "- LGBM Tuned model is seleted for our data since it has the highest score in some metrics we considered\n",
    "- It has **98%** accuracy, **94,1%** f1-score, **94,9** precision score, and **93,4%** recall score\n",
    "![image.png](attachment:5b98d244-09f6-45c4-9656-325fb2899593.png)"
   ]
  },
  {
   "cell_type": "markdown",
   "id": "84a4f9e7-125a-4e52-995c-1781f89cecb5",
   "metadata": {},
   "source": [
    "- Three top features:\n",
    "1. Cashback amount\n",
    "2. Distance between Warehouse and home\n",
    "3. Order Amount Hike from last year"
   ]
  },
  {
   "cell_type": "code",
   "execution_count": 3,
   "id": "7b4a4a1b-7c83-474f-a8f3-c51550d7dec1",
   "metadata": {},
   "outputs": [],
   "source": [
    "import pandas as pd\n",
    "import numpy as np\n",
    "import matplotlib.pyplot as plt\n",
    "import seaborn as sns\n",
    "import warnings\n",
    "from scipy import stats\n",
    "from matplotlib.pyplot import rcParams\n",
    "warnings.filterwarnings('ignore')"
   ]
  },
  {
   "cell_type": "code",
   "execution_count": 4,
   "id": "38401656-c47b-45be-bd64-26aef6fe9cad",
   "metadata": {},
   "outputs": [],
   "source": [
    "from sklearn.model_selection import train_test_split, RandomizedSearchCV, GridSearchCV, cross_val_score, cross_validate\n",
    "from sklearn.metrics import f1_score, accuracy_score, precision_score, classification_report, confusion_matrix, mean_absolute_error, recall_score\n",
    "from sklearn.metrics import roc_auc_score, precision_recall_curve, roc_curve, PrecisionRecallDisplay, RocCurveDisplay\n",
    "from sklearn.linear_model import LogisticRegression\n",
    "from imblearn.over_sampling import SMOTE\n",
    "from xgboost import XGBClassifier\n",
    "from lightgbm import LGBMClassifier\n",
    "from catboost import CatBoostClassifier"
   ]
  },
  {
   "cell_type": "code",
   "execution_count": 5,
   "id": "41830b1f-ea68-45f9-bc23-672d08b9c92a",
   "metadata": {},
   "outputs": [],
   "source": [
    "rcParams['axes.grid']         = True\n",
    "rcParams['grid.alpha']        = 0.3\n",
    "rcParams['axes.spines.right'] = False\n",
    "rcParams['axes.spines.left']  = False\n",
    "rcParams['axes.spines.top']   = False\n",
    "rcParams['figure.figsize']    = (17,5)"
   ]
  },
  {
   "cell_type": "code",
   "execution_count": 6,
   "id": "54ebe29c-8441-45f9-90a9-367b8fa019cd",
   "metadata": {},
   "outputs": [],
   "source": [
    "pd.set_option('display.max_columns',100)\n",
    "plt.rc('axes',axisbelow=True)"
   ]
  },
  {
   "cell_type": "code",
   "execution_count": 7,
   "id": "261b4b01-dca2-4d4d-915f-a7b1acbba55a",
   "metadata": {},
   "outputs": [],
   "source": [
    "df1 = pd.read_csv('D:Data/UCI/Churn/Cleaned_customer_churn.csv')"
   ]
  },
  {
   "cell_type": "code",
   "execution_count": 8,
   "id": "0f2625ed-f37d-4087-a010-97a679cd96f9",
   "metadata": {},
   "outputs": [],
   "source": [
    "X = df1.drop('Churn',axis=1)\n",
    "y = df1.Churn\n",
    "\n",
    "X_train, X_test, y_train, y_test = train_test_split(X, y, random_state=0, stratify=y, test_size=0.2)"
   ]
  },
  {
   "cell_type": "markdown",
   "id": "1b2a4353-037b-4854-9dea-73ec5b88a6e6",
   "metadata": {},
   "source": [
    "Since this data is imbalance, we would do over sampling method"
   ]
  },
  {
   "cell_type": "code",
   "execution_count": 9,
   "id": "bbf4a27c-ec7f-42b1-8186-845da65b2a07",
   "metadata": {},
   "outputs": [
    {
     "data": {
      "text/plain": [
       "0.0    3550\n",
       "1.0    3550\n",
       "Name: Churn, dtype: int64"
      ]
     },
     "execution_count": 9,
     "metadata": {},
     "output_type": "execute_result"
    }
   ],
   "source": [
    "X_train_new, y_train_new = SMOTE().fit_resample(X_train, y_train)\n",
    "y_train_new.value_counts()"
   ]
  },
  {
   "cell_type": "code",
   "execution_count": 10,
   "id": "ffc86473-f913-400d-a9ee-ed51e37cace6",
   "metadata": {},
   "outputs": [],
   "source": [
    "models = []\n",
    "models.append(('LR',LogisticRegression()))\n",
    "models.append(('XGB',XGBClassifier()))\n",
    "models.append(('LGBM',LGBMClassifier()))\n",
    "models.append(('CatBoost',CatBoostClassifier(verbose=False)))"
   ]
  },
  {
   "cell_type": "code",
   "execution_count": 11,
   "id": "b25360be-56c7-4364-8218-60ef1630a865",
   "metadata": {},
   "outputs": [],
   "source": [
    "results_boxplot = []\n",
    "names = []\n",
    "results_mean = []\n",
    "results_std = []\n",
    "\n",
    "for name, model in models:\n",
    "    cv_results = cross_validate(model, X, y, cv=5,scoring=('accuracy','f1','precision','recall'),n_jobs=-1)\n",
    "    results_boxplot.append(cv_results)\n",
    "    # results_mean.append(cv_results.mean())\n",
    "    # results_std.append(cv_results.std())\n",
    "    # names.append(name)"
   ]
  },
  {
   "cell_type": "code",
   "execution_count": 12,
   "id": "73750239-dbb6-44d5-ac6b-a8561f4ab0d2",
   "metadata": {},
   "outputs": [
    {
     "data": {
      "text/html": [
       "<div>\n",
       "<style scoped>\n",
       "    .dataframe tbody tr th:only-of-type {\n",
       "        vertical-align: middle;\n",
       "    }\n",
       "\n",
       "    .dataframe tbody tr th {\n",
       "        vertical-align: top;\n",
       "    }\n",
       "\n",
       "    .dataframe thead th {\n",
       "        text-align: right;\n",
       "    }\n",
       "</style>\n",
       "<table border=\"1\" class=\"dataframe\">\n",
       "  <thead>\n",
       "    <tr style=\"text-align: right;\">\n",
       "      <th></th>\n",
       "      <th>fit_time</th>\n",
       "      <th>score_time</th>\n",
       "      <th>test_accuracy</th>\n",
       "      <th>test_f1</th>\n",
       "      <th>test_precision</th>\n",
       "      <th>test_recall</th>\n",
       "    </tr>\n",
       "  </thead>\n",
       "  <tbody>\n",
       "    <tr>\n",
       "      <th>LR</th>\n",
       "      <td>0.053603</td>\n",
       "      <td>0.007400</td>\n",
       "      <td>0.896822</td>\n",
       "      <td>0.636343</td>\n",
       "      <td>0.796322</td>\n",
       "      <td>0.531904</td>\n",
       "    </tr>\n",
       "    <tr>\n",
       "      <th>XGB</th>\n",
       "      <td>0.961451</td>\n",
       "      <td>0.015000</td>\n",
       "      <td>0.992710</td>\n",
       "      <td>0.978621</td>\n",
       "      <td>0.979346</td>\n",
       "      <td>0.978058</td>\n",
       "    </tr>\n",
       "    <tr>\n",
       "      <th>LGBM</th>\n",
       "      <td>0.212933</td>\n",
       "      <td>0.016401</td>\n",
       "      <td>0.986542</td>\n",
       "      <td>0.959816</td>\n",
       "      <td>0.976240</td>\n",
       "      <td>0.944052</td>\n",
       "    </tr>\n",
       "    <tr>\n",
       "      <th>CatBoost</th>\n",
       "      <td>4.773204</td>\n",
       "      <td>0.012200</td>\n",
       "      <td>0.976075</td>\n",
       "      <td>0.926414</td>\n",
       "      <td>0.972676</td>\n",
       "      <td>0.884826</td>\n",
       "    </tr>\n",
       "  </tbody>\n",
       "</table>\n",
       "</div>"
      ],
      "text/plain": [
       "          fit_time  score_time  test_accuracy   test_f1  test_precision  \\\n",
       "LR        0.053603    0.007400       0.896822  0.636343        0.796322   \n",
       "XGB       0.961451    0.015000       0.992710  0.978621        0.979346   \n",
       "LGBM      0.212933    0.016401       0.986542  0.959816        0.976240   \n",
       "CatBoost  4.773204    0.012200       0.976075  0.926414        0.972676   \n",
       "\n",
       "          test_recall  \n",
       "LR           0.531904  \n",
       "XGB          0.978058  \n",
       "LGBM         0.944052  \n",
       "CatBoost     0.884826  "
      ]
     },
     "execution_count": 12,
     "metadata": {},
     "output_type": "execute_result"
    }
   ],
   "source": [
    "pd.DataFrame(results_boxplot, index=[i for i,j in models]).applymap(np.mean)"
   ]
  },
  {
   "cell_type": "markdown",
   "id": "902a80b9-418a-496b-9643-d6bebc066928",
   "metadata": {},
   "source": [
    "XGBoost looks the best model with the highest all metrics"
   ]
  },
  {
   "cell_type": "markdown",
   "id": "74516e11-dd5a-480c-a2f8-16186b485fa9",
   "metadata": {},
   "source": [
    "**Difference error between train and test**"
   ]
  },
  {
   "cell_type": "code",
   "execution_count": 13,
   "id": "830dc9b4-a73d-4e53-8065-265bc1f6e9d3",
   "metadata": {},
   "outputs": [
    {
     "name": "stdout",
     "output_type": "stream",
     "text": [
      "[21:11:50] WARNING: C:/Users/Administrator/workspace/xgboost-win64_release_1.5.1/src/learner.cc:1115: Starting in XGBoost 1.3.0, the default evaluation metric used with the objective 'binary:logistic' was changed from 'error' to 'logloss'. Explicitly set eval_metric if you'd like to restore the old behavior.\n"
     ]
    }
   ],
   "source": [
    "train_score = []\n",
    "test_score  = []\n",
    "for name, model in models:\n",
    "    mod = model.fit(X_train, y_train)\n",
    "    \n",
    "    train_score.append(mean_absolute_error(y_train, mod.predict(X_train)))\n",
    "    test_score.append(mean_absolute_error(y_test, mod.predict(X_test)))"
   ]
  },
  {
   "cell_type": "code",
   "execution_count": 14,
   "id": "090c7836-fbce-4866-acf9-2f51d4ccdd5e",
   "metadata": {},
   "outputs": [
    {
     "data": {
      "text/html": [
       "<div>\n",
       "<style scoped>\n",
       "    .dataframe tbody tr th:only-of-type {\n",
       "        vertical-align: middle;\n",
       "    }\n",
       "\n",
       "    .dataframe tbody tr th {\n",
       "        vertical-align: top;\n",
       "    }\n",
       "\n",
       "    .dataframe thead th {\n",
       "        text-align: right;\n",
       "    }\n",
       "</style>\n",
       "<table border=\"1\" class=\"dataframe\">\n",
       "  <thead>\n",
       "    <tr style=\"text-align: right;\">\n",
       "      <th></th>\n",
       "      <th>train_score</th>\n",
       "      <th>test_score</th>\n",
       "      <th>difference</th>\n",
       "    </tr>\n",
       "  </thead>\n",
       "  <tbody>\n",
       "    <tr>\n",
       "      <th>LR</th>\n",
       "      <td>0.107477</td>\n",
       "      <td>0.090654</td>\n",
       "      <td>0.016822</td>\n",
       "    </tr>\n",
       "    <tr>\n",
       "      <th>XGB</th>\n",
       "      <td>0.000000</td>\n",
       "      <td>0.022430</td>\n",
       "      <td>-0.022430</td>\n",
       "    </tr>\n",
       "    <tr>\n",
       "      <th>LGBM</th>\n",
       "      <td>0.002804</td>\n",
       "      <td>0.026168</td>\n",
       "      <td>-0.023364</td>\n",
       "    </tr>\n",
       "    <tr>\n",
       "      <th>CatBoost</th>\n",
       "      <td>0.008411</td>\n",
       "      <td>0.041121</td>\n",
       "      <td>-0.032710</td>\n",
       "    </tr>\n",
       "  </tbody>\n",
       "</table>\n",
       "</div>"
      ],
      "text/plain": [
       "          train_score  test_score  difference\n",
       "LR           0.107477    0.090654    0.016822\n",
       "XGB          0.000000    0.022430   -0.022430\n",
       "LGBM         0.002804    0.026168   -0.023364\n",
       "CatBoost     0.008411    0.041121   -0.032710"
      ]
     },
     "execution_count": 14,
     "metadata": {},
     "output_type": "execute_result"
    }
   ],
   "source": [
    "score = pd.DataFrame({'train_score':train_score,\n",
    "              'test_score' :test_score\n",
    "             },index=[name for name, model in models])\n",
    "score['difference'] = score.train_score- score.test_score\n",
    "score"
   ]
  },
  {
   "cell_type": "markdown",
   "id": "c86cfd3d-fd86-42e5-8f6b-0c8bbe81d17d",
   "metadata": {},
   "source": [
    "Logistic Regression has the smallest difference between train and test error. However, even though XGBoost in the 2nd, it has the smallest error both in train and test set"
   ]
  },
  {
   "cell_type": "markdown",
   "id": "0f086f96-505f-413b-b8f5-32de989b7f98",
   "metadata": {},
   "source": [
    "Let's do hyperparameter tuning for XGB and LGBM"
   ]
  },
  {
   "cell_type": "code",
   "execution_count": 15,
   "id": "3e661b05-f823-4e03-ab83-d70394a97c1a",
   "metadata": {},
   "outputs": [],
   "source": [
    "params  = {'learning_rate':[x for x in np.arange(0.05,0.5,0.05)],\n",
    "          'n_estimators' :[j for j in range(100,1000)],\n",
    "          'max_depth':[a for a in range(1,8)],\n",
    "          'min_child_weight':[b for b in range(1,9)],    \n",
    "          'gamma': range(1, 9),\n",
    "          \"reg_alpha\": [m for m in np.arange(0.1, 0.7,0.09)]\n",
    "         }\n",
    "\n",
    "gparams = {'learning_rate':[x for x in np.arange(0.05,0.5,0.02)],\n",
    "          'n_estimators' :[j for j in range(100,1000)],\n",
    "          'max_depth':[a for a in range(1,8)],\n",
    "          'min_child_weight':[b for b in range(1,9)],\n",
    "          \"reg_alpha\": [m for m in np.arange(0.1, 0.7,0.09)],\n",
    "          'booster':['gbdt','rf','dart']\n",
    "           }"
   ]
  },
  {
   "cell_type": "code",
   "execution_count": 16,
   "id": "df78324f-aaa4-4840-9b96-0cd9e2085037",
   "metadata": {},
   "outputs": [
    {
     "name": "stdout",
     "output_type": "stream",
     "text": [
      "[21:11:55] WARNING: C:/Users/Administrator/workspace/xgboost-win64_release_1.5.1/src/learner.cc:1115: Starting in XGBoost 1.3.0, the default evaluation metric used with the objective 'binary:logistic' was changed from 'error' to 'logloss'. Explicitly set eval_metric if you'd like to restore the old behavior.\n",
      "[21:14:49] WARNING: C:/Users/Administrator/workspace/xgboost-win64_release_1.5.1/src/learner.cc:1115: Starting in XGBoost 1.3.0, the default evaluation metric used with the objective 'binary:logistic' was changed from 'error' to 'logloss'. Explicitly set eval_metric if you'd like to restore the old behavior.\n"
     ]
    },
    {
     "data": {
      "text/plain": [
       "RandomizedSearchCV(cv=5, estimator=LGBMClassifier(), n_jobs=-1,\n",
       "                   param_distributions={'booster': ['gbdt', 'rf', 'dart'],\n",
       "                                        'learning_rate': [0.05, 0.07,\n",
       "                                                          0.09000000000000001,\n",
       "                                                          0.11000000000000001,\n",
       "                                                          0.13,\n",
       "                                                          0.15000000000000002,\n",
       "                                                          0.17000000000000004,\n",
       "                                                          0.19,\n",
       "                                                          0.21000000000000002,\n",
       "                                                          0.23000000000000004,\n",
       "                                                          0.25000000000000006,\n",
       "                                                          0.27,\n",
       "                                                          0.29000000000000004,\n",
       "                                                          0.31000000000000005,\n",
       "                                                          0.33,\n",
       "                                                          0.35000000...\n",
       "                                                          0.49000000000000005],\n",
       "                                        'max_depth': [1, 2, 3, 4, 5, 6, 7],\n",
       "                                        'min_child_weight': [1, 2, 3, 4, 5, 6,\n",
       "                                                             7, 8],\n",
       "                                        'n_estimators': [100, 101, 102, 103,\n",
       "                                                         104, 105, 106, 107,\n",
       "                                                         108, 109, 110, 111,\n",
       "                                                         112, 113, 114, 115,\n",
       "                                                         116, 117, 118, 119,\n",
       "                                                         120, 121, 122, 123,\n",
       "                                                         124, 125, 126, 127,\n",
       "                                                         128, 129, ...],\n",
       "                                        'reg_alpha': [0.1, 0.19, 0.28, 0.37,\n",
       "                                                      0.45999999999999996,\n",
       "                                                      0.5499999999999999,\n",
       "                                                      0.64]},\n",
       "                   random_state=0, scoring='accuracy', verbose=False)"
      ]
     },
     "execution_count": 16,
     "metadata": {},
     "output_type": "execute_result"
    }
   ],
   "source": [
    "xgb = XGBClassifier()\n",
    "lgb = LGBMClassifier()\n",
    "\n",
    "xgb_tuned = RandomizedSearchCV(xgb, params, cv=5,verbose=False,n_jobs=-1,random_state=0,scoring='accuracy')\n",
    "lgb_tuned = RandomizedSearchCV(lgb, gparams, cv=5,verbose=False,n_jobs=-1,random_state=0,scoring='accuracy')\n",
    "\n",
    "xgb.fit(X_train_new,y_train_new)\n",
    "lgb.fit(X_train_new,y_train_new)\n",
    "xgb_tuned.fit(X_train_new,y_train_new)\n",
    "lgb_tuned.fit(X_train_new,y_train_new)"
   ]
  },
  {
   "cell_type": "code",
   "execution_count": 17,
   "id": "406f232d-a474-432a-af70-e36f2d87ceab",
   "metadata": {},
   "outputs": [
    {
     "data": {
      "text/html": [
       "<div>\n",
       "<style scoped>\n",
       "    .dataframe tbody tr th:only-of-type {\n",
       "        vertical-align: middle;\n",
       "    }\n",
       "\n",
       "    .dataframe tbody tr th {\n",
       "        vertical-align: top;\n",
       "    }\n",
       "\n",
       "    .dataframe thead th {\n",
       "        text-align: right;\n",
       "    }\n",
       "</style>\n",
       "<table border=\"1\" class=\"dataframe\">\n",
       "  <thead>\n",
       "    <tr style=\"text-align: right;\">\n",
       "      <th></th>\n",
       "      <th>f1</th>\n",
       "      <th>precision</th>\n",
       "      <th>recall</th>\n",
       "      <th>accuracy</th>\n",
       "    </tr>\n",
       "  </thead>\n",
       "  <tbody>\n",
       "    <tr>\n",
       "      <th>LGBM Tuned</th>\n",
       "      <td>0.933333</td>\n",
       "      <td>0.943820</td>\n",
       "      <td>0.923077</td>\n",
       "      <td>0.977570</td>\n",
       "    </tr>\n",
       "    <tr>\n",
       "      <th>XGB</th>\n",
       "      <td>0.927778</td>\n",
       "      <td>0.938202</td>\n",
       "      <td>0.917582</td>\n",
       "      <td>0.975701</td>\n",
       "    </tr>\n",
       "    <tr>\n",
       "      <th>LGBM</th>\n",
       "      <td>0.869081</td>\n",
       "      <td>0.881356</td>\n",
       "      <td>0.857143</td>\n",
       "      <td>0.956075</td>\n",
       "    </tr>\n",
       "    <tr>\n",
       "      <th>XGB Tuned</th>\n",
       "      <td>0.819209</td>\n",
       "      <td>0.843023</td>\n",
       "      <td>0.796703</td>\n",
       "      <td>0.940187</td>\n",
       "    </tr>\n",
       "  </tbody>\n",
       "</table>\n",
       "</div>"
      ],
      "text/plain": [
       "                  f1  precision    recall  accuracy\n",
       "LGBM Tuned  0.933333   0.943820  0.923077  0.977570\n",
       "XGB         0.927778   0.938202  0.917582  0.975701\n",
       "LGBM        0.869081   0.881356  0.857143  0.956075\n",
       "XGB Tuned   0.819209   0.843023  0.796703  0.940187"
      ]
     },
     "execution_count": 17,
     "metadata": {},
     "output_type": "execute_result"
    }
   ],
   "source": [
    "models_new  = [xgb, lgb, xgb_tuned, lgb_tuned]\n",
    "f1score     = []\n",
    "accuracy    = []\n",
    "recall      = []\n",
    "precision   = []\n",
    "\n",
    "for model in models_new:\n",
    "    f1score.append(f1_score(y_test, model.predict(X_test)))\n",
    "    accuracy.append(accuracy_score(y_test,model.predict(X_test)))\n",
    "    recall.append(recall_score(y_test,model.predict(X_test)))\n",
    "    precision.append(precision_score(y_test,model.predict(X_test)))\n",
    "    \n",
    "pd.DataFrame({'f1':f1score,\n",
    "              'precision':precision,\n",
    "              'recall':recall,\n",
    "              'accuracy':accuracy\n",
    "             },index=['XGB','LGBM','XGB Tuned','LGBM Tuned']).sort_values('f1',ascending=False)"
   ]
  },
  {
   "cell_type": "markdown",
   "id": "02d246bf-6eb6-458d-afa5-306cbb29cca9",
   "metadata": {},
   "source": [
    "Only LGBM has a better result after doing hyperparameter tuning. XBG baseline is better than its tuned."
   ]
  },
  {
   "cell_type": "markdown",
   "id": "e0b2d009-9cdf-40f0-8051-2b24de95fa81",
   "metadata": {},
   "source": [
    "### Precision recall and ROC Curve"
   ]
  },
  {
   "cell_type": "code",
   "execution_count": 18,
   "id": "8f03bfb4-bdc5-4d88-8ee2-97f50085934d",
   "metadata": {},
   "outputs": [],
   "source": [
    "y_pred = lgb_tuned.predict_proba(X_test)[:,-1]\n",
    "prec, recall, _ = precision_recall_curve(y_test, y_pred, pos_label=lgb_tuned.classes_[1])\n",
    "pr_display = PrecisionRecallDisplay(prec, recall)"
   ]
  },
  {
   "cell_type": "code",
   "execution_count": 19,
   "id": "9573df7e-dba6-4ea9-8b95-85f31202b3e0",
   "metadata": {},
   "outputs": [],
   "source": [
    "auc_score   = roc_auc_score(y_test, y_pred)\n",
    "fpr, tpr, _ = roc_curve(y_test, y_pred, pos_label=lgb_tuned.classes_[1])\n",
    "roc_display = RocCurveDisplay(fpr=fpr, tpr=tpr)"
   ]
  },
  {
   "cell_type": "code",
   "execution_count": 20,
   "id": "d56bbd34-de6a-4f33-8e84-c9871e820bfb",
   "metadata": {},
   "outputs": [
    {
     "name": "stdout",
     "output_type": "stream",
     "text": [
      "ROC AUC score: 0.9863317988317988\n"
     ]
    },
    {
     "data": {
      "image/png": "[encoded data removed]",
      "text/plain": [
       "<Figure size 1080x360 with 2 Axes>"
      ]
     },
     "metadata": {
      "needs_background": "light"
     },
     "output_type": "display_data"
    },
    {
     "name": "stdout",
     "output_type": "stream",
     "text": [
      "AUC Score: 0.9863317988317988\n"
     ]
    }
   ],
   "source": [
    "print('ROC AUC score: {}'.format(auc_score))\n",
    "\n",
    "fig, ax = plt.subplots(1, 2, figsize= (15,5))\n",
    "\n",
    "pr_display.plot(ax[0])\n",
    "roc_display.plot(ax[1])\n",
    "\n",
    "ax[0].set_title('Precision Recall Curve',size=15, fontweight=550)\n",
    "ax[1].set_title('ROC AUC Curve',size=15, fontweight=550)\n",
    "\n",
    "plt.show()\n",
    "print('AUC Score: {}'.format(auc_score))"
   ]
  },
  {
   "cell_type": "markdown",
   "id": "9643c9d3-9ade-46a5-912b-8b3c73932500",
   "metadata": {},
   "source": [
    "### Feature Importance"
   ]
  },
  {
   "cell_type": "code",
   "execution_count": 21,
   "id": "eb1c43ff-cdfe-43dd-97a4-da5b81f0830b",
   "metadata": {},
   "outputs": [],
   "source": [
    "model_lgb = LGBMClassifier(**{'reg_alpha': 0.1,\n",
    " 'n_estimators': 703,\n",
    " 'min_child_weight': 3,\n",
    " 'max_depth': 6,\n",
    " 'learning_rate': 0.15000000000000002})"
   ]
  },
  {
   "cell_type": "code",
   "execution_count": 22,
   "id": "6a358e71-cb9e-489c-94c2-a29f08e69c26",
   "metadata": {},
   "outputs": [
    {
     "data": {
      "text/plain": [
       "LGBMClassifier(learning_rate=0.15000000000000002, max_depth=6,\n",
       "               min_child_weight=3, n_estimators=703, reg_alpha=0.1)"
      ]
     },
     "execution_count": 22,
     "metadata": {},
     "output_type": "execute_result"
    }
   ],
   "source": [
    "model_lgb.fit(X_train_new, y_train_new)"
   ]
  },
  {
   "cell_type": "code",
   "execution_count": 23,
   "id": "6094dd7b-bb6b-49b1-a532-b8aa40a20d21",
   "metadata": {},
   "outputs": [
    {
     "data": {
      "image/png": "[encoded data removed]",
      "text/plain": [
       "<Figure size 864x720 with 1 Axes>"
      ]
     },
     "metadata": {
      "needs_background": "light"
     },
     "output_type": "display_data"
    }
   ],
   "source": [
    "plt.figure(figsize=(12,10))\n",
    "sns.barplot('weight', 'feature', data=pd.DataFrame({'feature':X_train.columns,'weight':model_lgb.feature_importances_}).sort_values('weight',ascending=False),color='tab:blue')\n",
    "plt.ylabel('')\n",
    "plt.show()"
   ]
  },
  {
   "cell_type": "markdown",
   "id": "6cd94e24-f32c-4f4b-9f7c-cc2377106bb9",
   "metadata": {},
   "source": [
    "# Conclusion"
   ]
  },
  {
   "cell_type": "code",
   "execution_count": null,
   "id": "bcfaf6a7-2019-40d3-8461-934ff49ba6c7",
   "metadata": {},
   "outputs": [],
   "source": []
  },
  {
   "cell_type": "code",
   "execution_count": null,
   "id": "fb6d01d6-0069-4867-8dbb-ef6a9c38c250",
   "metadata": {},
   "outputs": [],
   "source": []
  },
  {
   "cell_type": "code",
   "execution_count": null,
   "id": "33e0cc04-d038-4d50-8cdd-92eaeb6c54bc",
   "metadata": {},
   "outputs": [],
   "source": []
  }
 ],
 "metadata": {
  "kernelspec": {
   "display_name": "Python 3 (ipykernel)",
   "language": "python",
   "name": "python3"
  },
  "language_info": {
   "codemirror_mode": {
    "name": "ipython",
    "version": 3
   },
   "file_extension": ".py",
   "mimetype": "text/x-python",
   "name": "python",
   "nbconvert_exporter": "python",
   "pygments_lexer": "ipython3",
   "version": "3.10.2"
  }
 },
 "nbformat": 4,
 "nbformat_minor": 5
}
